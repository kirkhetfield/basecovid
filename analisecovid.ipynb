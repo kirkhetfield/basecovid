{
 "cells": [
  {
   "cell_type": "code",
   "execution_count": null,
   "metadata": {},
   "outputs": [],
   "source": [
    "pip install plotly==4.14.3"
   ]
  },
  {
   "cell_type": "code",
   "execution_count": null,
   "metadata": {},
   "outputs": [],
   "source": [
    "!pip install plotly==4.14.3"
   ]
  },
  {
   "cell_type": "code",
   "execution_count": 107,
   "metadata": {},
   "outputs": [],
   "source": [
    "import pandas as pd\n",
    "import matplotlib.pyplot as plt\n",
    "import plotly.express as px\n",
    "import numpy as np\n",
    "import plotly\n",
    "import plotly.graph_objects as go\n",
    "from plotly.subplots import make_subplots\n",
    "%matplotlib inline\n",
    "\n",
    "basecovid = pd.read_csv('BaseCovid.csv',sep=';',encoding = \"ISO-8859-1\")"
   ]
  },
  {
   "cell_type": "code",
   "execution_count": 59,
   "metadata": {},
   "outputs": [],
   "source": [
    "basecovid['Mortes/Milhao'] = (basecovid['Mortes']/ basecovid['População']) * 1000000\n",
    "\n",
    "basecovid['Letalidade(Em %)'] = (basecovid['Mortes']/ basecovid['Infectados']) * 100"
   ]
  },
  {
   "cell_type": "code",
   "execution_count": 61,
   "metadata": {},
   "outputs": [],
   "source": [
    "df1 = basecovid[basecovid['Continente'] == \"Outros Continentes\"]\n",
    "df2 = basecovid[basecovid['Continente'] == \"Africa\"]"
   ]
  },
  {
   "cell_type": "code",
   "execution_count": 64,
   "metadata": {},
   "outputs": [
    {
     "data": {
      "text/plain": [
       "(158, 10)"
      ]
     },
     "execution_count": 64,
     "metadata": {},
     "output_type": "execute_result"
    }
   ],
   "source": [
    "df1.shape"
   ]
  },
  {
   "cell_type": "code",
   "execution_count": 65,
   "metadata": {},
   "outputs": [
    {
     "data": {
      "text/plain": [
       "(51, 10)"
      ]
     },
     "execution_count": 65,
     "metadata": {},
     "output_type": "execute_result"
    }
   ],
   "source": [
    "df2.shape"
   ]
  },
  {
   "cell_type": "code",
   "execution_count": 67,
   "metadata": {},
   "outputs": [
    {
     "data": {
      "text/html": [
       "<div>\n",
       "<style scoped>\n",
       "    .dataframe tbody tr th:only-of-type {\n",
       "        vertical-align: middle;\n",
       "    }\n",
       "\n",
       "    .dataframe tbody tr th {\n",
       "        vertical-align: top;\n",
       "    }\n",
       "\n",
       "    .dataframe thead th {\n",
       "        text-align: right;\n",
       "    }\n",
       "</style>\n",
       "<table border=\"1\" class=\"dataframe\">\n",
       "  <thead>\n",
       "    <tr style=\"text-align: right;\">\n",
       "      <th></th>\n",
       "      <th>Ranking população</th>\n",
       "      <th>População</th>\n",
       "      <th>Ranking covid</th>\n",
       "      <th>Infectados</th>\n",
       "      <th>Recuperados</th>\n",
       "      <th>Mortes</th>\n",
       "      <th>Mortes/Milhao</th>\n",
       "      <th>Letalidade(Em %)</th>\n",
       "    </tr>\n",
       "  </thead>\n",
       "  <tbody>\n",
       "    <tr>\n",
       "      <th>count</th>\n",
       "      <td>158.00000</td>\n",
       "      <td>158.00000</td>\n",
       "      <td>158.00000</td>\n",
       "      <td>158.00000</td>\n",
       "      <td>158.00000</td>\n",
       "      <td>158.00000</td>\n",
       "      <td>158.00000</td>\n",
       "      <td>158.00000</td>\n",
       "    </tr>\n",
       "    <tr>\n",
       "      <th>mean</th>\n",
       "      <td>116.86709</td>\n",
       "      <td>40403822.54430</td>\n",
       "      <td>98.46835</td>\n",
       "      <td>747906.85443</td>\n",
       "      <td>600202.77848</td>\n",
       "      <td>16381.71519</td>\n",
       "      <td>542.93083</td>\n",
       "      <td>1.78964</td>\n",
       "    </tr>\n",
       "    <tr>\n",
       "      <th>std</th>\n",
       "      <td>67.62609</td>\n",
       "      <td>160944224.00017</td>\n",
       "      <td>65.17518</td>\n",
       "      <td>2809231.92902</td>\n",
       "      <td>2210757.25213</td>\n",
       "      <td>55619.66669</td>\n",
       "      <td>632.57576</td>\n",
       "      <td>2.19796</td>\n",
       "    </tr>\n",
       "    <tr>\n",
       "      <th>min</th>\n",
       "      <td>1.00000</td>\n",
       "      <td>825.00000</td>\n",
       "      <td>0.00000</td>\n",
       "      <td>1.00000</td>\n",
       "      <td>0.00000</td>\n",
       "      <td>0.00000</td>\n",
       "      <td>0.00000</td>\n",
       "      <td>0.00000</td>\n",
       "    </tr>\n",
       "    <tr>\n",
       "      <th>25%</th>\n",
       "      <td>61.25000</td>\n",
       "      <td>524117.75000</td>\n",
       "      <td>41.25000</td>\n",
       "      <td>2746.50000</td>\n",
       "      <td>1973.00000</td>\n",
       "      <td>29.25000</td>\n",
       "      <td>28.06735</td>\n",
       "      <td>0.65927</td>\n",
       "    </tr>\n",
       "    <tr>\n",
       "      <th>50%</th>\n",
       "      <td>118.50000</td>\n",
       "      <td>5483341.50000</td>\n",
       "      <td>88.00000</td>\n",
       "      <td>88083.50000</td>\n",
       "      <td>64082.50000</td>\n",
       "      <td>1149.00000</td>\n",
       "      <td>276.41486</td>\n",
       "      <td>1.47403</td>\n",
       "    </tr>\n",
       "    <tr>\n",
       "      <th>75%</th>\n",
       "      <td>173.75000</td>\n",
       "      <td>19588268.25000</td>\n",
       "      <td>162.50000</td>\n",
       "      <td>375165.00000</td>\n",
       "      <td>276599.75000</td>\n",
       "      <td>6612.00000</td>\n",
       "      <td>922.76918</td>\n",
       "      <td>2.25219</td>\n",
       "    </tr>\n",
       "    <tr>\n",
       "      <th>max</th>\n",
       "      <td>241.00000</td>\n",
       "      <td>1407112160.00000</td>\n",
       "      <td>208.00000</td>\n",
       "      <td>30347354.00000</td>\n",
       "      <td>22498743.00000</td>\n",
       "      <td>551285.00000</td>\n",
       "      <td>2764.46196</td>\n",
       "      <td>23.12860</td>\n",
       "    </tr>\n",
       "  </tbody>\n",
       "</table>\n",
       "</div>"
      ],
      "text/plain": [
       "      Ranking população         População Ranking covid      Infectados  \\\n",
       "count         158.00000         158.00000     158.00000       158.00000   \n",
       "mean          116.86709    40403822.54430      98.46835    747906.85443   \n",
       "std            67.62609   160944224.00017      65.17518   2809231.92902   \n",
       "min             1.00000         825.00000       0.00000         1.00000   \n",
       "25%            61.25000      524117.75000      41.25000      2746.50000   \n",
       "50%           118.50000     5483341.50000      88.00000     88083.50000   \n",
       "75%           173.75000    19588268.25000     162.50000    375165.00000   \n",
       "max           241.00000  1407112160.00000     208.00000  30347354.00000   \n",
       "\n",
       "          Recuperados        Mortes Mortes/Milhao Letalidade(Em %)  \n",
       "count       158.00000     158.00000     158.00000        158.00000  \n",
       "mean     600202.77848   16381.71519     542.93083          1.78964  \n",
       "std     2210757.25213   55619.66669     632.57576          2.19796  \n",
       "min           0.00000       0.00000       0.00000          0.00000  \n",
       "25%        1973.00000      29.25000      28.06735          0.65927  \n",
       "50%       64082.50000    1149.00000     276.41486          1.47403  \n",
       "75%      276599.75000    6612.00000     922.76918          2.25219  \n",
       "max    22498743.00000  551285.00000    2764.46196         23.12860  "
      ]
     },
     "execution_count": 67,
     "metadata": {},
     "output_type": "execute_result"
    }
   ],
   "source": [
    "analise = df1.describe().apply(lambda s: s.apply('{0:.5f}'.format))\n",
    "analise"
   ]
  },
  {
   "cell_type": "code",
   "execution_count": 68,
   "metadata": {},
   "outputs": [
    {
     "data": {
      "text/html": [
       "<div>\n",
       "<style scoped>\n",
       "    .dataframe tbody tr th:only-of-type {\n",
       "        vertical-align: middle;\n",
       "    }\n",
       "\n",
       "    .dataframe tbody tr th {\n",
       "        vertical-align: top;\n",
       "    }\n",
       "\n",
       "    .dataframe thead th {\n",
       "        text-align: right;\n",
       "    }\n",
       "</style>\n",
       "<table border=\"1\" class=\"dataframe\">\n",
       "  <thead>\n",
       "    <tr style=\"text-align: right;\">\n",
       "      <th></th>\n",
       "      <th>Ranking população</th>\n",
       "      <th>População</th>\n",
       "      <th>Ranking covid</th>\n",
       "      <th>Infectados</th>\n",
       "      <th>Recuperados</th>\n",
       "      <th>Mortes</th>\n",
       "      <th>Mortes/Milhao</th>\n",
       "      <th>Letalidade(Em %)</th>\n",
       "    </tr>\n",
       "  </thead>\n",
       "  <tbody>\n",
       "    <tr>\n",
       "      <th>count</th>\n",
       "      <td>51.00000</td>\n",
       "      <td>51.00000</td>\n",
       "      <td>51.00000</td>\n",
       "      <td>51.00000</td>\n",
       "      <td>51.00000</td>\n",
       "      <td>51.00000</td>\n",
       "      <td>51.00000</td>\n",
       "      <td>51.00000</td>\n",
       "    </tr>\n",
       "    <tr>\n",
       "      <th>mean</th>\n",
       "      <td>90.68627</td>\n",
       "      <td>24027397.35294</td>\n",
       "      <td>121.13725</td>\n",
       "      <td>78835.66667</td>\n",
       "      <td>70836.13725</td>\n",
       "      <td>2114.70588</td>\n",
       "      <td>104.83318</td>\n",
       "      <td>2.34373</td>\n",
       "    </tr>\n",
       "    <tr>\n",
       "      <th>std</th>\n",
       "      <td>53.62779</td>\n",
       "      <td>36100540.97224</td>\n",
       "      <td>38.48169</td>\n",
       "      <td>224392.30684</td>\n",
       "      <td>213270.67172</td>\n",
       "      <td>7442.95675</td>\n",
       "      <td>179.06211</td>\n",
       "      <td>1.83068</td>\n",
       "    </tr>\n",
       "    <tr>\n",
       "      <th>min</th>\n",
       "      <td>7.00000</td>\n",
       "      <td>98462.00000</td>\n",
       "      <td>15.00000</td>\n",
       "      <td>10.00000</td>\n",
       "      <td>8.00000</td>\n",
       "      <td>1.00000</td>\n",
       "      <td>0.23858</td>\n",
       "      <td>0.12190</td>\n",
       "    </tr>\n",
       "    <tr>\n",
       "      <th>25%</th>\n",
       "      <td>49.00000</td>\n",
       "      <td>2372921.00000</td>\n",
       "      <td>103.00000</td>\n",
       "      <td>4994.50000</td>\n",
       "      <td>4125.50000</td>\n",
       "      <td>99.00000</td>\n",
       "      <td>9.55446</td>\n",
       "      <td>1.16005</td>\n",
       "    </tr>\n",
       "    <tr>\n",
       "      <th>50%</th>\n",
       "      <td>76.00000</td>\n",
       "      <td>12955768.00000</td>\n",
       "      <td>122.00000</td>\n",
       "      <td>17521.00000</td>\n",
       "      <td>15801.00000</td>\n",
       "      <td>334.00000</td>\n",
       "      <td>32.80527</td>\n",
       "      <td>1.60833</td>\n",
       "    </tr>\n",
       "    <tr>\n",
       "      <th>75%</th>\n",
       "      <td>144.50000</td>\n",
       "      <td>28959988.00000</td>\n",
       "      <td>149.50000</td>\n",
       "      <td>41153.00000</td>\n",
       "      <td>37514.00000</td>\n",
       "      <td>1043.00000</td>\n",
       "      <td>108.32965</td>\n",
       "      <td>3.42618</td>\n",
       "    </tr>\n",
       "    <tr>\n",
       "      <th>max</th>\n",
       "      <td>204.00000</td>\n",
       "      <td>211401000.00000</td>\n",
       "      <td>203.00000</td>\n",
       "      <td>1533961.00000</td>\n",
       "      <td>1459894.00000</td>\n",
       "      <td>51724.00000</td>\n",
       "      <td>867.52703</td>\n",
       "      <td>10.00000</td>\n",
       "    </tr>\n",
       "  </tbody>\n",
       "</table>\n",
       "</div>"
      ],
      "text/plain": [
       "      Ranking população        População Ranking covid     Infectados  \\\n",
       "count          51.00000         51.00000      51.00000       51.00000   \n",
       "mean           90.68627   24027397.35294     121.13725    78835.66667   \n",
       "std            53.62779   36100540.97224      38.48169   224392.30684   \n",
       "min             7.00000      98462.00000      15.00000       10.00000   \n",
       "25%            49.00000    2372921.00000     103.00000     4994.50000   \n",
       "50%            76.00000   12955768.00000     122.00000    17521.00000   \n",
       "75%           144.50000   28959988.00000     149.50000    41153.00000   \n",
       "max           204.00000  211401000.00000     203.00000  1533961.00000   \n",
       "\n",
       "         Recuperados       Mortes Mortes/Milhao Letalidade(Em %)  \n",
       "count       51.00000     51.00000      51.00000         51.00000  \n",
       "mean     70836.13725   2114.70588     104.83318          2.34373  \n",
       "std     213270.67172   7442.95675     179.06211          1.83068  \n",
       "min          8.00000      1.00000       0.23858          0.12190  \n",
       "25%       4125.50000     99.00000       9.55446          1.16005  \n",
       "50%      15801.00000    334.00000      32.80527          1.60833  \n",
       "75%      37514.00000   1043.00000     108.32965          3.42618  \n",
       "max    1459894.00000  51724.00000     867.52703         10.00000  "
      ]
     },
     "execution_count": 68,
     "metadata": {},
     "output_type": "execute_result"
    }
   ],
   "source": [
    "analise_africa = df2.describe().apply(lambda s: s.apply('{0:.5f}'.format))\n",
    "analise_africa"
   ]
  },
  {
   "cell_type": "code",
   "execution_count": 105,
   "metadata": {},
   "outputs": [
    {
     "data": {
      "text/html": [
       "<div>\n",
       "<style scoped>\n",
       "    .dataframe tbody tr th:only-of-type {\n",
       "        vertical-align: middle;\n",
       "    }\n",
       "\n",
       "    .dataframe tbody tr th {\n",
       "        vertical-align: top;\n",
       "    }\n",
       "\n",
       "    .dataframe thead th {\n",
       "        text-align: right;\n",
       "    }\n",
       "</style>\n",
       "<table border=\"1\" class=\"dataframe\">\n",
       "  <thead>\n",
       "    <tr style=\"text-align: right;\">\n",
       "      <th></th>\n",
       "      <th>Ranking população</th>\n",
       "      <th>População</th>\n",
       "      <th>Ranking covid</th>\n",
       "      <th>Infectados</th>\n",
       "      <th>Recuperados</th>\n",
       "      <th>Mortes</th>\n",
       "      <th>Mortes/Milhao</th>\n",
       "      <th>Letalidade(Em %)</th>\n",
       "    </tr>\n",
       "  </thead>\n",
       "  <tbody>\n",
       "    <tr>\n",
       "      <th>Ranking população</th>\n",
       "      <td>1.000000</td>\n",
       "      <td>-0.374043</td>\n",
       "      <td>0.754427</td>\n",
       "      <td>-0.359911</td>\n",
       "      <td>-0.369297</td>\n",
       "      <td>-0.405223</td>\n",
       "      <td>-0.121818</td>\n",
       "      <td>-0.313602</td>\n",
       "    </tr>\n",
       "    <tr>\n",
       "      <th>População</th>\n",
       "      <td>-0.374043</td>\n",
       "      <td>1.000000</td>\n",
       "      <td>-0.225785</td>\n",
       "      <td>0.389763</td>\n",
       "      <td>0.436368</td>\n",
       "      <td>0.337942</td>\n",
       "      <td>-0.054908</td>\n",
       "      <td>0.122032</td>\n",
       "    </tr>\n",
       "    <tr>\n",
       "      <th>Ranking covid</th>\n",
       "      <td>0.754427</td>\n",
       "      <td>-0.225785</td>\n",
       "      <td>1.000000</td>\n",
       "      <td>-0.356268</td>\n",
       "      <td>-0.362153</td>\n",
       "      <td>-0.395569</td>\n",
       "      <td>-0.522512</td>\n",
       "      <td>-0.178924</td>\n",
       "    </tr>\n",
       "    <tr>\n",
       "      <th>Infectados</th>\n",
       "      <td>-0.359911</td>\n",
       "      <td>0.389763</td>\n",
       "      <td>-0.356268</td>\n",
       "      <td>1.000000</td>\n",
       "      <td>0.987632</td>\n",
       "      <td>0.958822</td>\n",
       "      <td>0.257020</td>\n",
       "      <td>0.048845</td>\n",
       "    </tr>\n",
       "    <tr>\n",
       "      <th>Recuperados</th>\n",
       "      <td>-0.369297</td>\n",
       "      <td>0.436368</td>\n",
       "      <td>-0.362153</td>\n",
       "      <td>0.987632</td>\n",
       "      <td>1.000000</td>\n",
       "      <td>0.945751</td>\n",
       "      <td>0.239061</td>\n",
       "      <td>0.048815</td>\n",
       "    </tr>\n",
       "    <tr>\n",
       "      <th>Mortes</th>\n",
       "      <td>-0.405223</td>\n",
       "      <td>0.337942</td>\n",
       "      <td>-0.395569</td>\n",
       "      <td>0.958822</td>\n",
       "      <td>0.945751</td>\n",
       "      <td>1.000000</td>\n",
       "      <td>0.327228</td>\n",
       "      <td>0.135341</td>\n",
       "    </tr>\n",
       "    <tr>\n",
       "      <th>Mortes/Milhao</th>\n",
       "      <td>-0.121818</td>\n",
       "      <td>-0.054908</td>\n",
       "      <td>-0.522512</td>\n",
       "      <td>0.257020</td>\n",
       "      <td>0.239061</td>\n",
       "      <td>0.327228</td>\n",
       "      <td>1.000000</td>\n",
       "      <td>0.197650</td>\n",
       "    </tr>\n",
       "    <tr>\n",
       "      <th>Letalidade(Em %)</th>\n",
       "      <td>-0.313602</td>\n",
       "      <td>0.122032</td>\n",
       "      <td>-0.178924</td>\n",
       "      <td>0.048845</td>\n",
       "      <td>0.048815</td>\n",
       "      <td>0.135341</td>\n",
       "      <td>0.197650</td>\n",
       "      <td>1.000000</td>\n",
       "    </tr>\n",
       "  </tbody>\n",
       "</table>\n",
       "</div>"
      ],
      "text/plain": [
       "                   Ranking população  População  Ranking covid  Infectados  \\\n",
       "Ranking população           1.000000  -0.374043       0.754427   -0.359911   \n",
       "População                  -0.374043   1.000000      -0.225785    0.389763   \n",
       "Ranking covid               0.754427  -0.225785       1.000000   -0.356268   \n",
       "Infectados                 -0.359911   0.389763      -0.356268    1.000000   \n",
       "Recuperados                -0.369297   0.436368      -0.362153    0.987632   \n",
       "Mortes                     -0.405223   0.337942      -0.395569    0.958822   \n",
       "Mortes/Milhao              -0.121818  -0.054908      -0.522512    0.257020   \n",
       "Letalidade(Em %)           -0.313602   0.122032      -0.178924    0.048845   \n",
       "\n",
       "                   Recuperados    Mortes  Mortes/Milhao  Letalidade(Em %)  \n",
       "Ranking população    -0.369297 -0.405223      -0.121818         -0.313602  \n",
       "População             0.436368  0.337942      -0.054908          0.122032  \n",
       "Ranking covid        -0.362153 -0.395569      -0.522512         -0.178924  \n",
       "Infectados            0.987632  0.958822       0.257020          0.048845  \n",
       "Recuperados           1.000000  0.945751       0.239061          0.048815  \n",
       "Mortes                0.945751  1.000000       0.327228          0.135341  \n",
       "Mortes/Milhao         0.239061  0.327228       1.000000          0.197650  \n",
       "Letalidade(Em %)      0.048815  0.135341       0.197650          1.000000  "
      ]
     },
     "execution_count": 105,
     "metadata": {},
     "output_type": "execute_result"
    }
   ],
   "source": [
    "### Correlação de pearson, valores vão de -1 a 1\n",
    "\n",
    "#Outros continentes\n",
    "df1.corr()"
   ]
  },
  {
   "cell_type": "code",
   "execution_count": 106,
   "metadata": {},
   "outputs": [
    {
     "data": {
      "text/html": [
       "<div>\n",
       "<style scoped>\n",
       "    .dataframe tbody tr th:only-of-type {\n",
       "        vertical-align: middle;\n",
       "    }\n",
       "\n",
       "    .dataframe tbody tr th {\n",
       "        vertical-align: top;\n",
       "    }\n",
       "\n",
       "    .dataframe thead th {\n",
       "        text-align: right;\n",
       "    }\n",
       "</style>\n",
       "<table border=\"1\" class=\"dataframe\">\n",
       "  <thead>\n",
       "    <tr style=\"text-align: right;\">\n",
       "      <th></th>\n",
       "      <th>Ranking população</th>\n",
       "      <th>População</th>\n",
       "      <th>Ranking covid</th>\n",
       "      <th>Infectados</th>\n",
       "      <th>Recuperados</th>\n",
       "      <th>Mortes</th>\n",
       "      <th>Mortes/Milhao</th>\n",
       "      <th>Letalidade(Em %)</th>\n",
       "    </tr>\n",
       "  </thead>\n",
       "  <tbody>\n",
       "    <tr>\n",
       "      <th>Ranking população</th>\n",
       "      <td>1.000000</td>\n",
       "      <td>-0.676995</td>\n",
       "      <td>0.590934</td>\n",
       "      <td>-0.326100</td>\n",
       "      <td>-0.309161</td>\n",
       "      <td>-0.288561</td>\n",
       "      <td>0.120727</td>\n",
       "      <td>-0.055446</td>\n",
       "    </tr>\n",
       "    <tr>\n",
       "      <th>População</th>\n",
       "      <td>-0.676995</td>\n",
       "      <td>1.000000</td>\n",
       "      <td>-0.491193</td>\n",
       "      <td>0.293473</td>\n",
       "      <td>0.274448</td>\n",
       "      <td>0.250475</td>\n",
       "      <td>-0.063773</td>\n",
       "      <td>0.044608</td>\n",
       "    </tr>\n",
       "    <tr>\n",
       "      <th>Ranking covid</th>\n",
       "      <td>0.590934</td>\n",
       "      <td>-0.491193</td>\n",
       "      <td>1.000000</td>\n",
       "      <td>-0.636738</td>\n",
       "      <td>-0.620291</td>\n",
       "      <td>-0.566605</td>\n",
       "      <td>-0.487624</td>\n",
       "      <td>0.138553</td>\n",
       "    </tr>\n",
       "    <tr>\n",
       "      <th>Infectados</th>\n",
       "      <td>-0.326100</td>\n",
       "      <td>0.293473</td>\n",
       "      <td>-0.636738</td>\n",
       "      <td>1.000000</td>\n",
       "      <td>0.999133</td>\n",
       "      <td>0.978372</td>\n",
       "      <td>0.674644</td>\n",
       "      <td>0.066300</td>\n",
       "    </tr>\n",
       "    <tr>\n",
       "      <th>Recuperados</th>\n",
       "      <td>-0.309161</td>\n",
       "      <td>0.274448</td>\n",
       "      <td>-0.620291</td>\n",
       "      <td>0.999133</td>\n",
       "      <td>1.000000</td>\n",
       "      <td>0.975805</td>\n",
       "      <td>0.673863</td>\n",
       "      <td>0.062065</td>\n",
       "    </tr>\n",
       "    <tr>\n",
       "      <th>Mortes</th>\n",
       "      <td>-0.288561</td>\n",
       "      <td>0.250475</td>\n",
       "      <td>-0.566605</td>\n",
       "      <td>0.978372</td>\n",
       "      <td>0.975805</td>\n",
       "      <td>1.000000</td>\n",
       "      <td>0.685005</td>\n",
       "      <td>0.148170</td>\n",
       "    </tr>\n",
       "    <tr>\n",
       "      <th>Mortes/Milhao</th>\n",
       "      <td>0.120727</td>\n",
       "      <td>-0.063773</td>\n",
       "      <td>-0.487624</td>\n",
       "      <td>0.674644</td>\n",
       "      <td>0.673863</td>\n",
       "      <td>0.685005</td>\n",
       "      <td>1.000000</td>\n",
       "      <td>0.116726</td>\n",
       "    </tr>\n",
       "    <tr>\n",
       "      <th>Letalidade(Em %)</th>\n",
       "      <td>-0.055446</td>\n",
       "      <td>0.044608</td>\n",
       "      <td>0.138553</td>\n",
       "      <td>0.066300</td>\n",
       "      <td>0.062065</td>\n",
       "      <td>0.148170</td>\n",
       "      <td>0.116726</td>\n",
       "      <td>1.000000</td>\n",
       "    </tr>\n",
       "  </tbody>\n",
       "</table>\n",
       "</div>"
      ],
      "text/plain": [
       "                   Ranking população  População  Ranking covid  Infectados  \\\n",
       "Ranking população           1.000000  -0.676995       0.590934   -0.326100   \n",
       "População                  -0.676995   1.000000      -0.491193    0.293473   \n",
       "Ranking covid               0.590934  -0.491193       1.000000   -0.636738   \n",
       "Infectados                 -0.326100   0.293473      -0.636738    1.000000   \n",
       "Recuperados                -0.309161   0.274448      -0.620291    0.999133   \n",
       "Mortes                     -0.288561   0.250475      -0.566605    0.978372   \n",
       "Mortes/Milhao               0.120727  -0.063773      -0.487624    0.674644   \n",
       "Letalidade(Em %)           -0.055446   0.044608       0.138553    0.066300   \n",
       "\n",
       "                   Recuperados    Mortes  Mortes/Milhao  Letalidade(Em %)  \n",
       "Ranking população    -0.309161 -0.288561       0.120727         -0.055446  \n",
       "População             0.274448  0.250475      -0.063773          0.044608  \n",
       "Ranking covid        -0.620291 -0.566605      -0.487624          0.138553  \n",
       "Infectados            0.999133  0.978372       0.674644          0.066300  \n",
       "Recuperados           1.000000  0.975805       0.673863          0.062065  \n",
       "Mortes                0.975805  1.000000       0.685005          0.148170  \n",
       "Mortes/Milhao         0.673863  0.685005       1.000000          0.116726  \n",
       "Letalidade(Em %)      0.062065  0.148170       0.116726          1.000000  "
      ]
     },
     "execution_count": 106,
     "metadata": {},
     "output_type": "execute_result"
    }
   ],
   "source": [
    "#África\n",
    "df2.corr()"
   ]
  },
  {
   "cell_type": "code",
   "execution_count": 83,
   "metadata": {},
   "outputs": [],
   "source": [
    "top10_milhao_outroscontinentes = pd.DataFrame(df1).sort_values(by=['Mortes/Milhao'],ascending = False)\n",
    "top10_letalidade_outroscontinentes = pd.DataFrame(df1).sort_values(by=['Letalidade(Em %)'],ascending = False).nlargest(20, 'Letalidade(Em %)')"
   ]
  },
  {
   "cell_type": "code",
   "execution_count": 86,
   "metadata": {},
   "outputs": [],
   "source": [
    "top10_milhao_africa = pd.DataFrame(df2).sort_values(by=['Mortes/Milhao'],ascending = False)\n",
    "top10_letalidade_africa = pd.DataFrame(df2).sort_values(by=['Letalidade(Em %)'],ascending = False).nlargest(20, 'Letalidade(Em %)')"
   ]
  },
  {
   "cell_type": "code",
   "execution_count": 108,
   "metadata": {},
   "outputs": [
    {
     "data": {
      "application/vnd.plotly.v1+json": {
       "config": {
        "plotlyServerURL": "https://plot.ly"
       },
       "data": [
        {
         "alignmentgroup": "True",
         "customdata": [
          [
           23.71191499130891,
           3126,
           723,
           1520
          ],
          [
           1554.6523615498543,
           2175462,
           195908,
           1720430
          ],
          [
           61.28255635806522,
           16776,
           1120,
           11231
          ],
          [
           923.1165381925973,
           307429,
           16333,
           263164
          ],
          [
           3.294691163780434,
           90072,
           4636,
           85267
          ],
          [
           0.6262340725191581,
           39,
           2,
           1
          ],
          [
           200,
           20,
           1,
           19
          ],
          [
           1018.4570871008403,
           262056,
           12015,
           207643
          ],
          [
           74.8551900201431,
           56069,
           2462,
           49664
          ],
          [
           1685.2521519871589,
           291769,
           11715,
           230457
          ],
          [
           1719.0818080695724,
           149891,
           5729,
           122680
          ],
          [
           386.8555383580796,
           185832,
           6619,
           169624
          ],
          [
           730.620129332612,
           1778645,
           61581,
           1521377
          ],
          [
           1499.0932125219736,
           1435598,
           49523,
           1347160
          ],
          [
           1811.5301613400472,
           539080,
           17628,
           360895
          ],
          [
           680.7814292304987,
           230317,
           7297,
           196726
          ],
          [
           1751.2103931870759,
           3306711,
           103855,
           2655346
          ],
          [
           287.43315018382094,
           62531,
           1962,
           59576
          ],
          [
           5.608336230973719,
           32,
           1,
           0
          ],
          [
           35.279792037851614,
           29166,
           909,
           26235
          ]
         ],
         "hovertemplate": "País=%{x}<br>Letalidade(Em %)=%{marker.color}<br>Mortes/Milhao=%{customdata[0]}<br>Infectados=%{customdata[1]}<br>Mortes=%{customdata[2]}<br>Recuperados=%{customdata[3]}<extra></extra>",
         "legendgroup": "",
         "marker": {
          "color": [
           23.128598848368522,
           9.005351506944272,
           6.676204101096806,
           5.312771404129083,
           5.146993516298073,
           5.128205128205128,
           5,
           4.58489788442165,
           4.391018209705898,
           4.015162680065394,
           3.8221107337998945,
           3.5618192776271043,
           3.462242324915877,
           3.4496425879668267,
           3.2700155821028423,
           3.1682420316346596,
           3.140734101044815,
           3.1376437287105596,
           3.125,
           3.1166426661180826
          ],
          "coloraxis": "coloraxis"
         },
         "name": "",
         "offsetgroup": "",
         "orientation": "v",
         "showlegend": false,
         "textposition": "auto",
         "type": "bar",
         "x": [
          "Yemen",
          "Mexico",
          "Syria",
          "Ecuador",
          "China",
          "Puerto Rico",
          "Montserrat",
          "Bolivia",
          "Afghanistan",
          "Bulgaria",
          "Bosnia and Herzegovina",
          "Guatemala",
          "Iran",
          "Peru",
          "Hungary",
          "Greece",
          "Italy",
          "El Salvador",
          "Guam",
          "Australia"
         ],
         "xaxis": "x",
         "y": [
          23.128598848368522,
          9.005351506944272,
          6.676204101096806,
          5.312771404129083,
          5.146993516298073,
          5.128205128205128,
          5,
          4.58489788442165,
          4.391018209705898,
          4.015162680065394,
          3.8221107337998945,
          3.5618192776271043,
          3.462242324915877,
          3.4496425879668267,
          3.2700155821028423,
          3.1682420316346596,
          3.140734101044815,
          3.1376437287105596,
          3.125,
          3.1166426661180826
         ],
         "yaxis": "y"
        }
       ],
       "layout": {
        "barmode": "relative",
        "coloraxis": {
         "colorbar": {
          "title": {
           "text": "Letalidade(Em %)"
          }
         },
         "colorscale": [
          [
           0,
           "#440154"
          ],
          [
           0.1111111111111111,
           "#482878"
          ],
          [
           0.2222222222222222,
           "#3e4989"
          ],
          [
           0.3333333333333333,
           "#31688e"
          ],
          [
           0.4444444444444444,
           "#26828e"
          ],
          [
           0.5555555555555556,
           "#1f9e89"
          ],
          [
           0.6666666666666666,
           "#35b779"
          ],
          [
           0.7777777777777778,
           "#6ece58"
          ],
          [
           0.8888888888888888,
           "#b5de2b"
          ],
          [
           1,
           "#fde725"
          ]
         ]
        },
        "height": 600,
        "legend": {
         "tracegroupgap": 0
        },
        "template": {
         "data": {
          "bar": [
           {
            "error_x": {
             "color": "#2a3f5f"
            },
            "error_y": {
             "color": "#2a3f5f"
            },
            "marker": {
             "line": {
              "color": "#E5ECF6",
              "width": 0.5
             }
            },
            "type": "bar"
           }
          ],
          "barpolar": [
           {
            "marker": {
             "line": {
              "color": "#E5ECF6",
              "width": 0.5
             }
            },
            "type": "barpolar"
           }
          ],
          "carpet": [
           {
            "aaxis": {
             "endlinecolor": "#2a3f5f",
             "gridcolor": "white",
             "linecolor": "white",
             "minorgridcolor": "white",
             "startlinecolor": "#2a3f5f"
            },
            "baxis": {
             "endlinecolor": "#2a3f5f",
             "gridcolor": "white",
             "linecolor": "white",
             "minorgridcolor": "white",
             "startlinecolor": "#2a3f5f"
            },
            "type": "carpet"
           }
          ],
          "choropleth": [
           {
            "colorbar": {
             "outlinewidth": 0,
             "ticks": ""
            },
            "type": "choropleth"
           }
          ],
          "contour": [
           {
            "colorbar": {
             "outlinewidth": 0,
             "ticks": ""
            },
            "colorscale": [
             [
              0,
              "#0d0887"
             ],
             [
              0.1111111111111111,
              "#46039f"
             ],
             [
              0.2222222222222222,
              "#7201a8"
             ],
             [
              0.3333333333333333,
              "#9c179e"
             ],
             [
              0.4444444444444444,
              "#bd3786"
             ],
             [
              0.5555555555555556,
              "#d8576b"
             ],
             [
              0.6666666666666666,
              "#ed7953"
             ],
             [
              0.7777777777777778,
              "#fb9f3a"
             ],
             [
              0.8888888888888888,
              "#fdca26"
             ],
             [
              1,
              "#f0f921"
             ]
            ],
            "type": "contour"
           }
          ],
          "contourcarpet": [
           {
            "colorbar": {
             "outlinewidth": 0,
             "ticks": ""
            },
            "type": "contourcarpet"
           }
          ],
          "heatmap": [
           {
            "colorbar": {
             "outlinewidth": 0,
             "ticks": ""
            },
            "colorscale": [
             [
              0,
              "#0d0887"
             ],
             [
              0.1111111111111111,
              "#46039f"
             ],
             [
              0.2222222222222222,
              "#7201a8"
             ],
             [
              0.3333333333333333,
              "#9c179e"
             ],
             [
              0.4444444444444444,
              "#bd3786"
             ],
             [
              0.5555555555555556,
              "#d8576b"
             ],
             [
              0.6666666666666666,
              "#ed7953"
             ],
             [
              0.7777777777777778,
              "#fb9f3a"
             ],
             [
              0.8888888888888888,
              "#fdca26"
             ],
             [
              1,
              "#f0f921"
             ]
            ],
            "type": "heatmap"
           }
          ],
          "heatmapgl": [
           {
            "colorbar": {
             "outlinewidth": 0,
             "ticks": ""
            },
            "colorscale": [
             [
              0,
              "#0d0887"
             ],
             [
              0.1111111111111111,
              "#46039f"
             ],
             [
              0.2222222222222222,
              "#7201a8"
             ],
             [
              0.3333333333333333,
              "#9c179e"
             ],
             [
              0.4444444444444444,
              "#bd3786"
             ],
             [
              0.5555555555555556,
              "#d8576b"
             ],
             [
              0.6666666666666666,
              "#ed7953"
             ],
             [
              0.7777777777777778,
              "#fb9f3a"
             ],
             [
              0.8888888888888888,
              "#fdca26"
             ],
             [
              1,
              "#f0f921"
             ]
            ],
            "type": "heatmapgl"
           }
          ],
          "histogram": [
           {
            "marker": {
             "colorbar": {
              "outlinewidth": 0,
              "ticks": ""
             }
            },
            "type": "histogram"
           }
          ],
          "histogram2d": [
           {
            "colorbar": {
             "outlinewidth": 0,
             "ticks": ""
            },
            "colorscale": [
             [
              0,
              "#0d0887"
             ],
             [
              0.1111111111111111,
              "#46039f"
             ],
             [
              0.2222222222222222,
              "#7201a8"
             ],
             [
              0.3333333333333333,
              "#9c179e"
             ],
             [
              0.4444444444444444,
              "#bd3786"
             ],
             [
              0.5555555555555556,
              "#d8576b"
             ],
             [
              0.6666666666666666,
              "#ed7953"
             ],
             [
              0.7777777777777778,
              "#fb9f3a"
             ],
             [
              0.8888888888888888,
              "#fdca26"
             ],
             [
              1,
              "#f0f921"
             ]
            ],
            "type": "histogram2d"
           }
          ],
          "histogram2dcontour": [
           {
            "colorbar": {
             "outlinewidth": 0,
             "ticks": ""
            },
            "colorscale": [
             [
              0,
              "#0d0887"
             ],
             [
              0.1111111111111111,
              "#46039f"
             ],
             [
              0.2222222222222222,
              "#7201a8"
             ],
             [
              0.3333333333333333,
              "#9c179e"
             ],
             [
              0.4444444444444444,
              "#bd3786"
             ],
             [
              0.5555555555555556,
              "#d8576b"
             ],
             [
              0.6666666666666666,
              "#ed7953"
             ],
             [
              0.7777777777777778,
              "#fb9f3a"
             ],
             [
              0.8888888888888888,
              "#fdca26"
             ],
             [
              1,
              "#f0f921"
             ]
            ],
            "type": "histogram2dcontour"
           }
          ],
          "mesh3d": [
           {
            "colorbar": {
             "outlinewidth": 0,
             "ticks": ""
            },
            "type": "mesh3d"
           }
          ],
          "parcoords": [
           {
            "line": {
             "colorbar": {
              "outlinewidth": 0,
              "ticks": ""
             }
            },
            "type": "parcoords"
           }
          ],
          "pie": [
           {
            "automargin": true,
            "type": "pie"
           }
          ],
          "scatter": [
           {
            "marker": {
             "colorbar": {
              "outlinewidth": 0,
              "ticks": ""
             }
            },
            "type": "scatter"
           }
          ],
          "scatter3d": [
           {
            "line": {
             "colorbar": {
              "outlinewidth": 0,
              "ticks": ""
             }
            },
            "marker": {
             "colorbar": {
              "outlinewidth": 0,
              "ticks": ""
             }
            },
            "type": "scatter3d"
           }
          ],
          "scattercarpet": [
           {
            "marker": {
             "colorbar": {
              "outlinewidth": 0,
              "ticks": ""
             }
            },
            "type": "scattercarpet"
           }
          ],
          "scattergeo": [
           {
            "marker": {
             "colorbar": {
              "outlinewidth": 0,
              "ticks": ""
             }
            },
            "type": "scattergeo"
           }
          ],
          "scattergl": [
           {
            "marker": {
             "colorbar": {
              "outlinewidth": 0,
              "ticks": ""
             }
            },
            "type": "scattergl"
           }
          ],
          "scattermapbox": [
           {
            "marker": {
             "colorbar": {
              "outlinewidth": 0,
              "ticks": ""
             }
            },
            "type": "scattermapbox"
           }
          ],
          "scatterpolar": [
           {
            "marker": {
             "colorbar": {
              "outlinewidth": 0,
              "ticks": ""
             }
            },
            "type": "scatterpolar"
           }
          ],
          "scatterpolargl": [
           {
            "marker": {
             "colorbar": {
              "outlinewidth": 0,
              "ticks": ""
             }
            },
            "type": "scatterpolargl"
           }
          ],
          "scatterternary": [
           {
            "marker": {
             "colorbar": {
              "outlinewidth": 0,
              "ticks": ""
             }
            },
            "type": "scatterternary"
           }
          ],
          "surface": [
           {
            "colorbar": {
             "outlinewidth": 0,
             "ticks": ""
            },
            "colorscale": [
             [
              0,
              "#0d0887"
             ],
             [
              0.1111111111111111,
              "#46039f"
             ],
             [
              0.2222222222222222,
              "#7201a8"
             ],
             [
              0.3333333333333333,
              "#9c179e"
             ],
             [
              0.4444444444444444,
              "#bd3786"
             ],
             [
              0.5555555555555556,
              "#d8576b"
             ],
             [
              0.6666666666666666,
              "#ed7953"
             ],
             [
              0.7777777777777778,
              "#fb9f3a"
             ],
             [
              0.8888888888888888,
              "#fdca26"
             ],
             [
              1,
              "#f0f921"
             ]
            ],
            "type": "surface"
           }
          ],
          "table": [
           {
            "cells": {
             "fill": {
              "color": "#EBF0F8"
             },
             "line": {
              "color": "white"
             }
            },
            "header": {
             "fill": {
              "color": "#C8D4E3"
             },
             "line": {
              "color": "white"
             }
            },
            "type": "table"
           }
          ]
         },
         "layout": {
          "annotationdefaults": {
           "arrowcolor": "#2a3f5f",
           "arrowhead": 0,
           "arrowwidth": 1
          },
          "autotypenumbers": "strict",
          "coloraxis": {
           "colorbar": {
            "outlinewidth": 0,
            "ticks": ""
           }
          },
          "colorscale": {
           "diverging": [
            [
             0,
             "#8e0152"
            ],
            [
             0.1,
             "#c51b7d"
            ],
            [
             0.2,
             "#de77ae"
            ],
            [
             0.3,
             "#f1b6da"
            ],
            [
             0.4,
             "#fde0ef"
            ],
            [
             0.5,
             "#f7f7f7"
            ],
            [
             0.6,
             "#e6f5d0"
            ],
            [
             0.7,
             "#b8e186"
            ],
            [
             0.8,
             "#7fbc41"
            ],
            [
             0.9,
             "#4d9221"
            ],
            [
             1,
             "#276419"
            ]
           ],
           "sequential": [
            [
             0,
             "#0d0887"
            ],
            [
             0.1111111111111111,
             "#46039f"
            ],
            [
             0.2222222222222222,
             "#7201a8"
            ],
            [
             0.3333333333333333,
             "#9c179e"
            ],
            [
             0.4444444444444444,
             "#bd3786"
            ],
            [
             0.5555555555555556,
             "#d8576b"
            ],
            [
             0.6666666666666666,
             "#ed7953"
            ],
            [
             0.7777777777777778,
             "#fb9f3a"
            ],
            [
             0.8888888888888888,
             "#fdca26"
            ],
            [
             1,
             "#f0f921"
            ]
           ],
           "sequentialminus": [
            [
             0,
             "#0d0887"
            ],
            [
             0.1111111111111111,
             "#46039f"
            ],
            [
             0.2222222222222222,
             "#7201a8"
            ],
            [
             0.3333333333333333,
             "#9c179e"
            ],
            [
             0.4444444444444444,
             "#bd3786"
            ],
            [
             0.5555555555555556,
             "#d8576b"
            ],
            [
             0.6666666666666666,
             "#ed7953"
            ],
            [
             0.7777777777777778,
             "#fb9f3a"
            ],
            [
             0.8888888888888888,
             "#fdca26"
            ],
            [
             1,
             "#f0f921"
            ]
           ]
          },
          "colorway": [
           "#636efa",
           "#EF553B",
           "#00cc96",
           "#ab63fa",
           "#FFA15A",
           "#19d3f3",
           "#FF6692",
           "#B6E880",
           "#FF97FF",
           "#FECB52"
          ],
          "font": {
           "color": "#2a3f5f"
          },
          "geo": {
           "bgcolor": "white",
           "lakecolor": "white",
           "landcolor": "#E5ECF6",
           "showlakes": true,
           "showland": true,
           "subunitcolor": "white"
          },
          "hoverlabel": {
           "align": "left"
          },
          "hovermode": "closest",
          "mapbox": {
           "style": "light"
          },
          "paper_bgcolor": "white",
          "plot_bgcolor": "#E5ECF6",
          "polar": {
           "angularaxis": {
            "gridcolor": "white",
            "linecolor": "white",
            "ticks": ""
           },
           "bgcolor": "#E5ECF6",
           "radialaxis": {
            "gridcolor": "white",
            "linecolor": "white",
            "ticks": ""
           }
          },
          "scene": {
           "xaxis": {
            "backgroundcolor": "#E5ECF6",
            "gridcolor": "white",
            "gridwidth": 2,
            "linecolor": "white",
            "showbackground": true,
            "ticks": "",
            "zerolinecolor": "white"
           },
           "yaxis": {
            "backgroundcolor": "#E5ECF6",
            "gridcolor": "white",
            "gridwidth": 2,
            "linecolor": "white",
            "showbackground": true,
            "ticks": "",
            "zerolinecolor": "white"
           },
           "zaxis": {
            "backgroundcolor": "#E5ECF6",
            "gridcolor": "white",
            "gridwidth": 2,
            "linecolor": "white",
            "showbackground": true,
            "ticks": "",
            "zerolinecolor": "white"
           }
          },
          "shapedefaults": {
           "line": {
            "color": "#2a3f5f"
           }
          },
          "ternary": {
           "aaxis": {
            "gridcolor": "white",
            "linecolor": "white",
            "ticks": ""
           },
           "baxis": {
            "gridcolor": "white",
            "linecolor": "white",
            "ticks": ""
           },
           "bgcolor": "#E5ECF6",
           "caxis": {
            "gridcolor": "white",
            "linecolor": "white",
            "ticks": ""
           }
          },
          "title": {
           "x": 0.05
          },
          "xaxis": {
           "automargin": true,
           "gridcolor": "white",
           "linecolor": "white",
           "ticks": "",
           "title": {
            "standoff": 15
           },
           "zerolinecolor": "white",
           "zerolinewidth": 2
          },
          "yaxis": {
           "automargin": true,
           "gridcolor": "white",
           "linecolor": "white",
           "ticks": "",
           "title": {
            "standoff": 15
           },
           "zerolinecolor": "white",
           "zerolinewidth": 2
          }
         }
        },
        "title": {
         "text": "Top 20  Maiores letalidades - Resto do mundo"
        },
        "xaxis": {
         "anchor": "y",
         "domain": [
          0,
          1
         ],
         "title": {
          "text": "País"
         }
        },
        "yaxis": {
         "anchor": "x",
         "domain": [
          0,
          1
         ],
         "title": {
          "text": "Letalidade(Em %)"
         }
        }
       }
      },
      "text/html": [
       "<div>                            <div id=\"e67078b5-f41a-4ee5-a6a9-73438ce19e39\" class=\"plotly-graph-div\" style=\"height:600px; width:100%;\"></div>            <script type=\"text/javascript\">                require([\"plotly\"], function(Plotly) {                    window.PLOTLYENV=window.PLOTLYENV || {};                                    if (document.getElementById(\"e67078b5-f41a-4ee5-a6a9-73438ce19e39\")) {                    Plotly.newPlot(                        \"e67078b5-f41a-4ee5-a6a9-73438ce19e39\",                        [{\"alignmentgroup\": \"True\", \"customdata\": [[23.71191499130891, 3126.0, 723.0, 1520.0], [1554.6523615498543, 2175462.0, 195908.0, 1720430.0], [61.28255635806522, 16776.0, 1120.0, 11231.0], [923.1165381925973, 307429.0, 16333.0, 263164.0], [3.294691163780434, 90072.0, 4636.0, 85267.0], [0.6262340725191581, 39.0, 2.0, 1.0], [200.0, 20.0, 1.0, 19.0], [1018.4570871008403, 262056.0, 12015.0, 207643.0], [74.8551900201431, 56069.0, 2462.0, 49664.0], [1685.2521519871589, 291769.0, 11715.0, 230457.0], [1719.0818080695724, 149891.0, 5729.0, 122680.0], [386.8555383580796, 185832.0, 6619.0, 169624.0], [730.620129332612, 1778645.0, 61581.0, 1521377.0], [1499.0932125219736, 1435598.0, 49523.0, 1347160.0], [1811.5301613400472, 539080.0, 17628.0, 360895.0], [680.7814292304987, 230317.0, 7297.0, 196726.0], [1751.2103931870759, 3306711.0, 103855.0, 2655346.0], [287.43315018382094, 62531.0, 1962.0, 59576.0], [5.608336230973719, 32.0, 1.0, 0.0], [35.279792037851614, 29166.0, 909.0, 26235.0]], \"hovertemplate\": \"Pa\\u00eds=%{x}<br>Letalidade(Em %)=%{marker.color}<br>Mortes/Milhao=%{customdata[0]}<br>Infectados=%{customdata[1]}<br>Mortes=%{customdata[2]}<br>Recuperados=%{customdata[3]}<extra></extra>\", \"legendgroup\": \"\", \"marker\": {\"color\": [23.128598848368522, 9.005351506944272, 6.676204101096806, 5.312771404129083, 5.146993516298073, 5.128205128205128, 5.0, 4.58489788442165, 4.391018209705898, 4.015162680065394, 3.8221107337998945, 3.5618192776271043, 3.462242324915877, 3.4496425879668267, 3.2700155821028423, 3.1682420316346596, 3.140734101044815, 3.1376437287105596, 3.125, 3.1166426661180826], \"coloraxis\": \"coloraxis\"}, \"name\": \"\", \"offsetgroup\": \"\", \"orientation\": \"v\", \"showlegend\": false, \"textposition\": \"auto\", \"type\": \"bar\", \"x\": [\"Yemen\", \"Mexico\", \"Syria\", \"Ecuador\", \"China\", \"Puerto Rico\", \"Montserrat\", \"Bolivia\", \"Afghanistan\", \"Bulgaria\", \"Bosnia and Herzegovina\", \"Guatemala\", \"Iran\", \"Peru\", \"Hungary\", \"Greece\", \"Italy\", \"El Salvador\", \"Guam\", \"Australia\"], \"xaxis\": \"x\", \"y\": [23.128598848368522, 9.005351506944272, 6.676204101096806, 5.312771404129083, 5.146993516298073, 5.128205128205128, 5.0, 4.58489788442165, 4.391018209705898, 4.015162680065394, 3.8221107337998945, 3.5618192776271043, 3.462242324915877, 3.4496425879668267, 3.2700155821028423, 3.1682420316346596, 3.140734101044815, 3.1376437287105596, 3.125, 3.1166426661180826], \"yaxis\": \"y\"}],                        {\"barmode\": \"relative\", \"coloraxis\": {\"colorbar\": {\"title\": {\"text\": \"Letalidade(Em %)\"}}, \"colorscale\": [[0.0, \"#440154\"], [0.1111111111111111, \"#482878\"], [0.2222222222222222, \"#3e4989\"], [0.3333333333333333, \"#31688e\"], [0.4444444444444444, \"#26828e\"], [0.5555555555555556, \"#1f9e89\"], [0.6666666666666666, \"#35b779\"], [0.7777777777777778, \"#6ece58\"], [0.8888888888888888, \"#b5de2b\"], [1.0, \"#fde725\"]]}, \"height\": 600, \"legend\": {\"tracegroupgap\": 0}, \"template\": {\"data\": {\"bar\": [{\"error_x\": {\"color\": \"#2a3f5f\"}, \"error_y\": {\"color\": \"#2a3f5f\"}, \"marker\": {\"line\": {\"color\": \"#E5ECF6\", \"width\": 0.5}}, \"type\": \"bar\"}], \"barpolar\": [{\"marker\": {\"line\": {\"color\": \"#E5ECF6\", \"width\": 0.5}}, \"type\": \"barpolar\"}], \"carpet\": [{\"aaxis\": {\"endlinecolor\": \"#2a3f5f\", \"gridcolor\": \"white\", \"linecolor\": \"white\", \"minorgridcolor\": \"white\", \"startlinecolor\": \"#2a3f5f\"}, \"baxis\": {\"endlinecolor\": \"#2a3f5f\", \"gridcolor\": \"white\", \"linecolor\": \"white\", \"minorgridcolor\": \"white\", \"startlinecolor\": \"#2a3f5f\"}, \"type\": \"carpet\"}], \"choropleth\": [{\"colorbar\": {\"outlinewidth\": 0, \"ticks\": \"\"}, \"type\": \"choropleth\"}], \"contour\": [{\"colorbar\": {\"outlinewidth\": 0, \"ticks\": \"\"}, \"colorscale\": [[0.0, \"#0d0887\"], [0.1111111111111111, \"#46039f\"], [0.2222222222222222, \"#7201a8\"], [0.3333333333333333, \"#9c179e\"], [0.4444444444444444, \"#bd3786\"], [0.5555555555555556, \"#d8576b\"], [0.6666666666666666, \"#ed7953\"], [0.7777777777777778, \"#fb9f3a\"], [0.8888888888888888, \"#fdca26\"], [1.0, \"#f0f921\"]], \"type\": \"contour\"}], \"contourcarpet\": [{\"colorbar\": {\"outlinewidth\": 0, \"ticks\": \"\"}, \"type\": \"contourcarpet\"}], \"heatmap\": [{\"colorbar\": {\"outlinewidth\": 0, \"ticks\": \"\"}, \"colorscale\": [[0.0, \"#0d0887\"], [0.1111111111111111, \"#46039f\"], [0.2222222222222222, \"#7201a8\"], [0.3333333333333333, \"#9c179e\"], [0.4444444444444444, \"#bd3786\"], [0.5555555555555556, \"#d8576b\"], [0.6666666666666666, \"#ed7953\"], [0.7777777777777778, \"#fb9f3a\"], [0.8888888888888888, \"#fdca26\"], [1.0, \"#f0f921\"]], \"type\": \"heatmap\"}], \"heatmapgl\": [{\"colorbar\": {\"outlinewidth\": 0, \"ticks\": \"\"}, \"colorscale\": [[0.0, \"#0d0887\"], [0.1111111111111111, \"#46039f\"], [0.2222222222222222, \"#7201a8\"], [0.3333333333333333, \"#9c179e\"], [0.4444444444444444, \"#bd3786\"], [0.5555555555555556, \"#d8576b\"], [0.6666666666666666, \"#ed7953\"], [0.7777777777777778, \"#fb9f3a\"], [0.8888888888888888, \"#fdca26\"], [1.0, \"#f0f921\"]], \"type\": \"heatmapgl\"}], \"histogram\": [{\"marker\": {\"colorbar\": {\"outlinewidth\": 0, \"ticks\": \"\"}}, \"type\": \"histogram\"}], \"histogram2d\": [{\"colorbar\": {\"outlinewidth\": 0, \"ticks\": \"\"}, \"colorscale\": [[0.0, \"#0d0887\"], [0.1111111111111111, \"#46039f\"], [0.2222222222222222, \"#7201a8\"], [0.3333333333333333, \"#9c179e\"], [0.4444444444444444, \"#bd3786\"], [0.5555555555555556, \"#d8576b\"], [0.6666666666666666, \"#ed7953\"], [0.7777777777777778, \"#fb9f3a\"], [0.8888888888888888, \"#fdca26\"], [1.0, \"#f0f921\"]], \"type\": \"histogram2d\"}], \"histogram2dcontour\": [{\"colorbar\": {\"outlinewidth\": 0, \"ticks\": \"\"}, \"colorscale\": [[0.0, \"#0d0887\"], [0.1111111111111111, \"#46039f\"], [0.2222222222222222, \"#7201a8\"], [0.3333333333333333, \"#9c179e\"], [0.4444444444444444, \"#bd3786\"], [0.5555555555555556, \"#d8576b\"], [0.6666666666666666, \"#ed7953\"], [0.7777777777777778, \"#fb9f3a\"], [0.8888888888888888, \"#fdca26\"], [1.0, \"#f0f921\"]], \"type\": \"histogram2dcontour\"}], \"mesh3d\": [{\"colorbar\": {\"outlinewidth\": 0, \"ticks\": \"\"}, \"type\": \"mesh3d\"}], \"parcoords\": [{\"line\": {\"colorbar\": {\"outlinewidth\": 0, \"ticks\": \"\"}}, \"type\": \"parcoords\"}], \"pie\": [{\"automargin\": true, \"type\": \"pie\"}], \"scatter\": [{\"marker\": {\"colorbar\": {\"outlinewidth\": 0, \"ticks\": \"\"}}, \"type\": \"scatter\"}], \"scatter3d\": [{\"line\": {\"colorbar\": {\"outlinewidth\": 0, \"ticks\": \"\"}}, \"marker\": {\"colorbar\": {\"outlinewidth\": 0, \"ticks\": \"\"}}, \"type\": \"scatter3d\"}], \"scattercarpet\": [{\"marker\": {\"colorbar\": {\"outlinewidth\": 0, \"ticks\": \"\"}}, \"type\": \"scattercarpet\"}], \"scattergeo\": [{\"marker\": {\"colorbar\": {\"outlinewidth\": 0, \"ticks\": \"\"}}, \"type\": \"scattergeo\"}], \"scattergl\": [{\"marker\": {\"colorbar\": {\"outlinewidth\": 0, \"ticks\": \"\"}}, \"type\": \"scattergl\"}], \"scattermapbox\": [{\"marker\": {\"colorbar\": {\"outlinewidth\": 0, \"ticks\": \"\"}}, \"type\": \"scattermapbox\"}], \"scatterpolar\": [{\"marker\": {\"colorbar\": {\"outlinewidth\": 0, \"ticks\": \"\"}}, \"type\": \"scatterpolar\"}], \"scatterpolargl\": [{\"marker\": {\"colorbar\": {\"outlinewidth\": 0, \"ticks\": \"\"}}, \"type\": \"scatterpolargl\"}], \"scatterternary\": [{\"marker\": {\"colorbar\": {\"outlinewidth\": 0, \"ticks\": \"\"}}, \"type\": \"scatterternary\"}], \"surface\": [{\"colorbar\": {\"outlinewidth\": 0, \"ticks\": \"\"}, \"colorscale\": [[0.0, \"#0d0887\"], [0.1111111111111111, \"#46039f\"], [0.2222222222222222, \"#7201a8\"], [0.3333333333333333, \"#9c179e\"], [0.4444444444444444, \"#bd3786\"], [0.5555555555555556, \"#d8576b\"], [0.6666666666666666, \"#ed7953\"], [0.7777777777777778, \"#fb9f3a\"], [0.8888888888888888, \"#fdca26\"], [1.0, \"#f0f921\"]], \"type\": \"surface\"}], \"table\": [{\"cells\": {\"fill\": {\"color\": \"#EBF0F8\"}, \"line\": {\"color\": \"white\"}}, \"header\": {\"fill\": {\"color\": \"#C8D4E3\"}, \"line\": {\"color\": \"white\"}}, \"type\": \"table\"}]}, \"layout\": {\"annotationdefaults\": {\"arrowcolor\": \"#2a3f5f\", \"arrowhead\": 0, \"arrowwidth\": 1}, \"autotypenumbers\": \"strict\", \"coloraxis\": {\"colorbar\": {\"outlinewidth\": 0, \"ticks\": \"\"}}, \"colorscale\": {\"diverging\": [[0, \"#8e0152\"], [0.1, \"#c51b7d\"], [0.2, \"#de77ae\"], [0.3, \"#f1b6da\"], [0.4, \"#fde0ef\"], [0.5, \"#f7f7f7\"], [0.6, \"#e6f5d0\"], [0.7, \"#b8e186\"], [0.8, \"#7fbc41\"], [0.9, \"#4d9221\"], [1, \"#276419\"]], \"sequential\": [[0.0, \"#0d0887\"], [0.1111111111111111, \"#46039f\"], [0.2222222222222222, \"#7201a8\"], [0.3333333333333333, \"#9c179e\"], [0.4444444444444444, \"#bd3786\"], [0.5555555555555556, \"#d8576b\"], [0.6666666666666666, \"#ed7953\"], [0.7777777777777778, \"#fb9f3a\"], [0.8888888888888888, \"#fdca26\"], [1.0, \"#f0f921\"]], \"sequentialminus\": [[0.0, \"#0d0887\"], [0.1111111111111111, \"#46039f\"], [0.2222222222222222, \"#7201a8\"], [0.3333333333333333, \"#9c179e\"], [0.4444444444444444, \"#bd3786\"], [0.5555555555555556, \"#d8576b\"], [0.6666666666666666, \"#ed7953\"], [0.7777777777777778, \"#fb9f3a\"], [0.8888888888888888, \"#fdca26\"], [1.0, \"#f0f921\"]]}, \"colorway\": [\"#636efa\", \"#EF553B\", \"#00cc96\", \"#ab63fa\", \"#FFA15A\", \"#19d3f3\", \"#FF6692\", \"#B6E880\", \"#FF97FF\", \"#FECB52\"], \"font\": {\"color\": \"#2a3f5f\"}, \"geo\": {\"bgcolor\": \"white\", \"lakecolor\": \"white\", \"landcolor\": \"#E5ECF6\", \"showlakes\": true, \"showland\": true, \"subunitcolor\": \"white\"}, \"hoverlabel\": {\"align\": \"left\"}, \"hovermode\": \"closest\", \"mapbox\": {\"style\": \"light\"}, \"paper_bgcolor\": \"white\", \"plot_bgcolor\": \"#E5ECF6\", \"polar\": {\"angularaxis\": {\"gridcolor\": \"white\", \"linecolor\": \"white\", \"ticks\": \"\"}, \"bgcolor\": \"#E5ECF6\", \"radialaxis\": {\"gridcolor\": \"white\", \"linecolor\": \"white\", \"ticks\": \"\"}}, \"scene\": {\"xaxis\": {\"backgroundcolor\": \"#E5ECF6\", \"gridcolor\": \"white\", \"gridwidth\": 2, \"linecolor\": \"white\", \"showbackground\": true, \"ticks\": \"\", \"zerolinecolor\": \"white\"}, \"yaxis\": {\"backgroundcolor\": \"#E5ECF6\", \"gridcolor\": \"white\", \"gridwidth\": 2, \"linecolor\": \"white\", \"showbackground\": true, \"ticks\": \"\", \"zerolinecolor\": \"white\"}, \"zaxis\": {\"backgroundcolor\": \"#E5ECF6\", \"gridcolor\": \"white\", \"gridwidth\": 2, \"linecolor\": \"white\", \"showbackground\": true, \"ticks\": \"\", \"zerolinecolor\": \"white\"}}, \"shapedefaults\": {\"line\": {\"color\": \"#2a3f5f\"}}, \"ternary\": {\"aaxis\": {\"gridcolor\": \"white\", \"linecolor\": \"white\", \"ticks\": \"\"}, \"baxis\": {\"gridcolor\": \"white\", \"linecolor\": \"white\", \"ticks\": \"\"}, \"bgcolor\": \"#E5ECF6\", \"caxis\": {\"gridcolor\": \"white\", \"linecolor\": \"white\", \"ticks\": \"\"}}, \"title\": {\"x\": 0.05}, \"xaxis\": {\"automargin\": true, \"gridcolor\": \"white\", \"linecolor\": \"white\", \"ticks\": \"\", \"title\": {\"standoff\": 15}, \"zerolinecolor\": \"white\", \"zerolinewidth\": 2}, \"yaxis\": {\"automargin\": true, \"gridcolor\": \"white\", \"linecolor\": \"white\", \"ticks\": \"\", \"title\": {\"standoff\": 15}, \"zerolinecolor\": \"white\", \"zerolinewidth\": 2}}}, \"title\": {\"text\": \"Top 20  Maiores letalidades - Resto do mundo\"}, \"xaxis\": {\"anchor\": \"y\", \"domain\": [0.0, 1.0], \"title\": {\"text\": \"Pa\\u00eds\"}}, \"yaxis\": {\"anchor\": \"x\", \"domain\": [0.0, 1.0], \"title\": {\"text\": \"Letalidade(Em %)\"}}},                        {\"responsive\": true}                    ).then(function(){\n",
       "                            \n",
       "var gd = document.getElementById('e67078b5-f41a-4ee5-a6a9-73438ce19e39');\n",
       "var x = new MutationObserver(function (mutations, observer) {{\n",
       "        var display = window.getComputedStyle(gd).display;\n",
       "        if (!display || display === 'none') {{\n",
       "            console.log([gd, 'removed!']);\n",
       "            Plotly.purge(gd);\n",
       "            observer.disconnect();\n",
       "        }}\n",
       "}});\n",
       "\n",
       "// Listen for the removal of the full notebook cells\n",
       "var notebookContainer = gd.closest('#notebook-container');\n",
       "if (notebookContainer) {{\n",
       "    x.observe(notebookContainer, {childList: true});\n",
       "}}\n",
       "\n",
       "// Listen for the clearing of the current output cell\n",
       "var outputEl = gd.closest('.output');\n",
       "if (outputEl) {{\n",
       "    x.observe(outputEl, {childList: true});\n",
       "}}\n",
       "\n",
       "                        })                };                });            </script>        </div>"
      ]
     },
     "metadata": {},
     "output_type": "display_data"
    }
   ],
   "source": [
    "fig3 = px.bar(top10_letalidade_outroscontinentes, x = top10_letalidade_outroscontinentes.País, y = 'Letalidade(Em %)', height = 600, color = 'Letalidade(Em %)',\n",
    "             title = 'Top 20  Maiores letalidades - Resto do mundo', hover_data=[\"Mortes/Milhao\",\"Infectados\",\"Mortes\",\"Recuperados\"], color_continuous_scale = px.colors.sequential.Viridis)\n",
    "fig3.show();"
   ]
  },
  {
   "cell_type": "code",
   "execution_count": 88,
   "metadata": {
    "scrolled": false
   },
   "outputs": [
    {
     "data": {
      "application/vnd.plotly.v1+json": {
       "config": {
        "plotlyServerURL": "https://plot.ly"
       },
       "data": [
        {
         "alignmentgroup": "True",
         "customdata": [
          [
           1.6339869281045751,
           10,
           1,
           8
          ],
          [
           45.22641952433073,
           29135,
           1959,
           23583
          ],
          [
           112.47304855595617,
           192840,
           11431,
           148424
          ],
          [
           18.236390825164506,
           2042,
           85,
           1899
          ],
          [
           0.3532856269881149,
           509,
           21,
           183
          ],
          [
           95.56248114398359,
           36611,
           1509,
           34226
          ],
          [
           23.96088019559902,
           9600,
           392,
           4329
          ],
          [
           17.548906789413117,
           9118,
           366,
           6574
          ],
          [
           192.5318732560041,
           3657,
           146,
           3465
          ],
          [
           606.4553189698858,
           17257,
           663,
           15885
          ],
          [
           7.67228860180337,
           4904,
           185,
           4525
          ],
          [
           9.335019027682256,
           4380,
           157,
           3864
          ],
          [
           725.1222843145545,
           243935,
           8490,
           210983
          ],
          [
           867.5270263584042,
           1533961,
           51724,
           1459894
          ],
          [
           57.72962965569488,
           33045,
           1091,
           27532
          ],
          [
           67.65135062924318,
           5085,
           158,
           4620
          ],
          [
           153.94571844075406,
           10530,
           309,
           3922
          ],
          [
           57.76991745636789,
           37428,
           995,
           33643
          ],
          [
           68.18791946308725,
           115688,
           3048,
           80219
          ],
          [
           104.18625036494454,
           17521,
           445,
           16821
          ]
         ],
         "hovertemplate": "País=%{x}<br>Letalidade(Em %)=%{marker.color}<br>Mortes/Milhao=%{customdata[0]}<br>Infectados=%{customdata[1]}<br>Mortes=%{customdata[2]}<br>Recuperados=%{customdata[3]}<extra></extra>",
         "legendgroup": "",
         "marker": {
          "color": [
           10,
           6.723871632057662,
           5.927712092926778,
           4.16258570029383,
           4.12573673870334,
           4.121712053754336,
           4.083333333333333,
           4.014038166264531,
           3.992343450916051,
           3.8419192211856057,
           3.772430668841762,
           3.584474885844749,
           3.480435361879189,
           3.3719240580431964,
           3.3015584808594336,
           3.1071779744346117,
           2.9344729344729346,
           2.658437533397456,
           2.6346725675956018,
           2.5398093716112093
          ],
          "coloraxis": "coloraxis"
         },
         "name": "",
         "offsetgroup": "",
         "orientation": "v",
         "showlegend": false,
         "textposition": "auto",
         "type": "bar",
         "x": [
          "Western Sahara",
          "Sudan",
          "Egypt",
          "Liberia",
          "Tanzania",
          "Zimbabwe",
          "Somalia",
          "Mali",
          "Comoros",
          "Eswatini",
          "Niger",
          "Chad",
          "Tunisia",
          "South Africa",
          "Malawi",
          "Gambia",
          "Lesotho",
          "Senegal",
          "Algeria",
          "Mauritania"
         ],
         "xaxis": "x",
         "y": [
          10,
          6.723871632057662,
          5.927712092926778,
          4.16258570029383,
          4.12573673870334,
          4.121712053754336,
          4.083333333333333,
          4.014038166264531,
          3.992343450916051,
          3.8419192211856057,
          3.772430668841762,
          3.584474885844749,
          3.480435361879189,
          3.3719240580431964,
          3.3015584808594336,
          3.1071779744346117,
          2.9344729344729346,
          2.658437533397456,
          2.6346725675956018,
          2.5398093716112093
         ],
         "yaxis": "y"
        }
       ],
       "layout": {
        "barmode": "relative",
        "coloraxis": {
         "colorbar": {
          "title": {
           "text": "Letalidade(Em %)"
          }
         },
         "colorscale": [
          [
           0,
           "#440154"
          ],
          [
           0.1111111111111111,
           "#482878"
          ],
          [
           0.2222222222222222,
           "#3e4989"
          ],
          [
           0.3333333333333333,
           "#31688e"
          ],
          [
           0.4444444444444444,
           "#26828e"
          ],
          [
           0.5555555555555556,
           "#1f9e89"
          ],
          [
           0.6666666666666666,
           "#35b779"
          ],
          [
           0.7777777777777778,
           "#6ece58"
          ],
          [
           0.8888888888888888,
           "#b5de2b"
          ],
          [
           1,
           "#fde725"
          ]
         ]
        },
        "height": 600,
        "legend": {
         "tracegroupgap": 0
        },
        "template": {
         "data": {
          "bar": [
           {
            "error_x": {
             "color": "#2a3f5f"
            },
            "error_y": {
             "color": "#2a3f5f"
            },
            "marker": {
             "line": {
              "color": "#E5ECF6",
              "width": 0.5
             }
            },
            "type": "bar"
           }
          ],
          "barpolar": [
           {
            "marker": {
             "line": {
              "color": "#E5ECF6",
              "width": 0.5
             }
            },
            "type": "barpolar"
           }
          ],
          "carpet": [
           {
            "aaxis": {
             "endlinecolor": "#2a3f5f",
             "gridcolor": "white",
             "linecolor": "white",
             "minorgridcolor": "white",
             "startlinecolor": "#2a3f5f"
            },
            "baxis": {
             "endlinecolor": "#2a3f5f",
             "gridcolor": "white",
             "linecolor": "white",
             "minorgridcolor": "white",
             "startlinecolor": "#2a3f5f"
            },
            "type": "carpet"
           }
          ],
          "choropleth": [
           {
            "colorbar": {
             "outlinewidth": 0,
             "ticks": ""
            },
            "type": "choropleth"
           }
          ],
          "contour": [
           {
            "colorbar": {
             "outlinewidth": 0,
             "ticks": ""
            },
            "colorscale": [
             [
              0,
              "#0d0887"
             ],
             [
              0.1111111111111111,
              "#46039f"
             ],
             [
              0.2222222222222222,
              "#7201a8"
             ],
             [
              0.3333333333333333,
              "#9c179e"
             ],
             [
              0.4444444444444444,
              "#bd3786"
             ],
             [
              0.5555555555555556,
              "#d8576b"
             ],
             [
              0.6666666666666666,
              "#ed7953"
             ],
             [
              0.7777777777777778,
              "#fb9f3a"
             ],
             [
              0.8888888888888888,
              "#fdca26"
             ],
             [
              1,
              "#f0f921"
             ]
            ],
            "type": "contour"
           }
          ],
          "contourcarpet": [
           {
            "colorbar": {
             "outlinewidth": 0,
             "ticks": ""
            },
            "type": "contourcarpet"
           }
          ],
          "heatmap": [
           {
            "colorbar": {
             "outlinewidth": 0,
             "ticks": ""
            },
            "colorscale": [
             [
              0,
              "#0d0887"
             ],
             [
              0.1111111111111111,
              "#46039f"
             ],
             [
              0.2222222222222222,
              "#7201a8"
             ],
             [
              0.3333333333333333,
              "#9c179e"
             ],
             [
              0.4444444444444444,
              "#bd3786"
             ],
             [
              0.5555555555555556,
              "#d8576b"
             ],
             [
              0.6666666666666666,
              "#ed7953"
             ],
             [
              0.7777777777777778,
              "#fb9f3a"
             ],
             [
              0.8888888888888888,
              "#fdca26"
             ],
             [
              1,
              "#f0f921"
             ]
            ],
            "type": "heatmap"
           }
          ],
          "heatmapgl": [
           {
            "colorbar": {
             "outlinewidth": 0,
             "ticks": ""
            },
            "colorscale": [
             [
              0,
              "#0d0887"
             ],
             [
              0.1111111111111111,
              "#46039f"
             ],
             [
              0.2222222222222222,
              "#7201a8"
             ],
             [
              0.3333333333333333,
              "#9c179e"
             ],
             [
              0.4444444444444444,
              "#bd3786"
             ],
             [
              0.5555555555555556,
              "#d8576b"
             ],
             [
              0.6666666666666666,
              "#ed7953"
             ],
             [
              0.7777777777777778,
              "#fb9f3a"
             ],
             [
              0.8888888888888888,
              "#fdca26"
             ],
             [
              1,
              "#f0f921"
             ]
            ],
            "type": "heatmapgl"
           }
          ],
          "histogram": [
           {
            "marker": {
             "colorbar": {
              "outlinewidth": 0,
              "ticks": ""
             }
            },
            "type": "histogram"
           }
          ],
          "histogram2d": [
           {
            "colorbar": {
             "outlinewidth": 0,
             "ticks": ""
            },
            "colorscale": [
             [
              0,
              "#0d0887"
             ],
             [
              0.1111111111111111,
              "#46039f"
             ],
             [
              0.2222222222222222,
              "#7201a8"
             ],
             [
              0.3333333333333333,
              "#9c179e"
             ],
             [
              0.4444444444444444,
              "#bd3786"
             ],
             [
              0.5555555555555556,
              "#d8576b"
             ],
             [
              0.6666666666666666,
              "#ed7953"
             ],
             [
              0.7777777777777778,
              "#fb9f3a"
             ],
             [
              0.8888888888888888,
              "#fdca26"
             ],
             [
              1,
              "#f0f921"
             ]
            ],
            "type": "histogram2d"
           }
          ],
          "histogram2dcontour": [
           {
            "colorbar": {
             "outlinewidth": 0,
             "ticks": ""
            },
            "colorscale": [
             [
              0,
              "#0d0887"
             ],
             [
              0.1111111111111111,
              "#46039f"
             ],
             [
              0.2222222222222222,
              "#7201a8"
             ],
             [
              0.3333333333333333,
              "#9c179e"
             ],
             [
              0.4444444444444444,
              "#bd3786"
             ],
             [
              0.5555555555555556,
              "#d8576b"
             ],
             [
              0.6666666666666666,
              "#ed7953"
             ],
             [
              0.7777777777777778,
              "#fb9f3a"
             ],
             [
              0.8888888888888888,
              "#fdca26"
             ],
             [
              1,
              "#f0f921"
             ]
            ],
            "type": "histogram2dcontour"
           }
          ],
          "mesh3d": [
           {
            "colorbar": {
             "outlinewidth": 0,
             "ticks": ""
            },
            "type": "mesh3d"
           }
          ],
          "parcoords": [
           {
            "line": {
             "colorbar": {
              "outlinewidth": 0,
              "ticks": ""
             }
            },
            "type": "parcoords"
           }
          ],
          "pie": [
           {
            "automargin": true,
            "type": "pie"
           }
          ],
          "scatter": [
           {
            "marker": {
             "colorbar": {
              "outlinewidth": 0,
              "ticks": ""
             }
            },
            "type": "scatter"
           }
          ],
          "scatter3d": [
           {
            "line": {
             "colorbar": {
              "outlinewidth": 0,
              "ticks": ""
             }
            },
            "marker": {
             "colorbar": {
              "outlinewidth": 0,
              "ticks": ""
             }
            },
            "type": "scatter3d"
           }
          ],
          "scattercarpet": [
           {
            "marker": {
             "colorbar": {
              "outlinewidth": 0,
              "ticks": ""
             }
            },
            "type": "scattercarpet"
           }
          ],
          "scattergeo": [
           {
            "marker": {
             "colorbar": {
              "outlinewidth": 0,
              "ticks": ""
             }
            },
            "type": "scattergeo"
           }
          ],
          "scattergl": [
           {
            "marker": {
             "colorbar": {
              "outlinewidth": 0,
              "ticks": ""
             }
            },
            "type": "scattergl"
           }
          ],
          "scattermapbox": [
           {
            "marker": {
             "colorbar": {
              "outlinewidth": 0,
              "ticks": ""
             }
            },
            "type": "scattermapbox"
           }
          ],
          "scatterpolar": [
           {
            "marker": {
             "colorbar": {
              "outlinewidth": 0,
              "ticks": ""
             }
            },
            "type": "scatterpolar"
           }
          ],
          "scatterpolargl": [
           {
            "marker": {
             "colorbar": {
              "outlinewidth": 0,
              "ticks": ""
             }
            },
            "type": "scatterpolargl"
           }
          ],
          "scatterternary": [
           {
            "marker": {
             "colorbar": {
              "outlinewidth": 0,
              "ticks": ""
             }
            },
            "type": "scatterternary"
           }
          ],
          "surface": [
           {
            "colorbar": {
             "outlinewidth": 0,
             "ticks": ""
            },
            "colorscale": [
             [
              0,
              "#0d0887"
             ],
             [
              0.1111111111111111,
              "#46039f"
             ],
             [
              0.2222222222222222,
              "#7201a8"
             ],
             [
              0.3333333333333333,
              "#9c179e"
             ],
             [
              0.4444444444444444,
              "#bd3786"
             ],
             [
              0.5555555555555556,
              "#d8576b"
             ],
             [
              0.6666666666666666,
              "#ed7953"
             ],
             [
              0.7777777777777778,
              "#fb9f3a"
             ],
             [
              0.8888888888888888,
              "#fdca26"
             ],
             [
              1,
              "#f0f921"
             ]
            ],
            "type": "surface"
           }
          ],
          "table": [
           {
            "cells": {
             "fill": {
              "color": "#EBF0F8"
             },
             "line": {
              "color": "white"
             }
            },
            "header": {
             "fill": {
              "color": "#C8D4E3"
             },
             "line": {
              "color": "white"
             }
            },
            "type": "table"
           }
          ]
         },
         "layout": {
          "annotationdefaults": {
           "arrowcolor": "#2a3f5f",
           "arrowhead": 0,
           "arrowwidth": 1
          },
          "autotypenumbers": "strict",
          "coloraxis": {
           "colorbar": {
            "outlinewidth": 0,
            "ticks": ""
           }
          },
          "colorscale": {
           "diverging": [
            [
             0,
             "#8e0152"
            ],
            [
             0.1,
             "#c51b7d"
            ],
            [
             0.2,
             "#de77ae"
            ],
            [
             0.3,
             "#f1b6da"
            ],
            [
             0.4,
             "#fde0ef"
            ],
            [
             0.5,
             "#f7f7f7"
            ],
            [
             0.6,
             "#e6f5d0"
            ],
            [
             0.7,
             "#b8e186"
            ],
            [
             0.8,
             "#7fbc41"
            ],
            [
             0.9,
             "#4d9221"
            ],
            [
             1,
             "#276419"
            ]
           ],
           "sequential": [
            [
             0,
             "#0d0887"
            ],
            [
             0.1111111111111111,
             "#46039f"
            ],
            [
             0.2222222222222222,
             "#7201a8"
            ],
            [
             0.3333333333333333,
             "#9c179e"
            ],
            [
             0.4444444444444444,
             "#bd3786"
            ],
            [
             0.5555555555555556,
             "#d8576b"
            ],
            [
             0.6666666666666666,
             "#ed7953"
            ],
            [
             0.7777777777777778,
             "#fb9f3a"
            ],
            [
             0.8888888888888888,
             "#fdca26"
            ],
            [
             1,
             "#f0f921"
            ]
           ],
           "sequentialminus": [
            [
             0,
             "#0d0887"
            ],
            [
             0.1111111111111111,
             "#46039f"
            ],
            [
             0.2222222222222222,
             "#7201a8"
            ],
            [
             0.3333333333333333,
             "#9c179e"
            ],
            [
             0.4444444444444444,
             "#bd3786"
            ],
            [
             0.5555555555555556,
             "#d8576b"
            ],
            [
             0.6666666666666666,
             "#ed7953"
            ],
            [
             0.7777777777777778,
             "#fb9f3a"
            ],
            [
             0.8888888888888888,
             "#fdca26"
            ],
            [
             1,
             "#f0f921"
            ]
           ]
          },
          "colorway": [
           "#636efa",
           "#EF553B",
           "#00cc96",
           "#ab63fa",
           "#FFA15A",
           "#19d3f3",
           "#FF6692",
           "#B6E880",
           "#FF97FF",
           "#FECB52"
          ],
          "font": {
           "color": "#2a3f5f"
          },
          "geo": {
           "bgcolor": "white",
           "lakecolor": "white",
           "landcolor": "#E5ECF6",
           "showlakes": true,
           "showland": true,
           "subunitcolor": "white"
          },
          "hoverlabel": {
           "align": "left"
          },
          "hovermode": "closest",
          "mapbox": {
           "style": "light"
          },
          "paper_bgcolor": "white",
          "plot_bgcolor": "#E5ECF6",
          "polar": {
           "angularaxis": {
            "gridcolor": "white",
            "linecolor": "white",
            "ticks": ""
           },
           "bgcolor": "#E5ECF6",
           "radialaxis": {
            "gridcolor": "white",
            "linecolor": "white",
            "ticks": ""
           }
          },
          "scene": {
           "xaxis": {
            "backgroundcolor": "#E5ECF6",
            "gridcolor": "white",
            "gridwidth": 2,
            "linecolor": "white",
            "showbackground": true,
            "ticks": "",
            "zerolinecolor": "white"
           },
           "yaxis": {
            "backgroundcolor": "#E5ECF6",
            "gridcolor": "white",
            "gridwidth": 2,
            "linecolor": "white",
            "showbackground": true,
            "ticks": "",
            "zerolinecolor": "white"
           },
           "zaxis": {
            "backgroundcolor": "#E5ECF6",
            "gridcolor": "white",
            "gridwidth": 2,
            "linecolor": "white",
            "showbackground": true,
            "ticks": "",
            "zerolinecolor": "white"
           }
          },
          "shapedefaults": {
           "line": {
            "color": "#2a3f5f"
           }
          },
          "ternary": {
           "aaxis": {
            "gridcolor": "white",
            "linecolor": "white",
            "ticks": ""
           },
           "baxis": {
            "gridcolor": "white",
            "linecolor": "white",
            "ticks": ""
           },
           "bgcolor": "#E5ECF6",
           "caxis": {
            "gridcolor": "white",
            "linecolor": "white",
            "ticks": ""
           }
          },
          "title": {
           "x": 0.05
          },
          "xaxis": {
           "automargin": true,
           "gridcolor": "white",
           "linecolor": "white",
           "ticks": "",
           "title": {
            "standoff": 15
           },
           "zerolinecolor": "white",
           "zerolinewidth": 2
          },
          "yaxis": {
           "automargin": true,
           "gridcolor": "white",
           "linecolor": "white",
           "ticks": "",
           "title": {
            "standoff": 15
           },
           "zerolinecolor": "white",
           "zerolinewidth": 2
          }
         }
        },
        "title": {
         "text": "Top 25  Maiores letalidades - Continente Africano"
        },
        "xaxis": {
         "anchor": "y",
         "domain": [
          0,
          1
         ],
         "title": {
          "text": "País"
         }
        },
        "yaxis": {
         "anchor": "x",
         "domain": [
          0,
          1
         ],
         "title": {
          "text": "Letalidade(Em %)"
         }
        }
       }
      },
      "text/html": [
       "<div>                            <div id=\"e42907d3-4bd1-43b0-808e-4130f5c788e4\" class=\"plotly-graph-div\" style=\"height:600px; width:100%;\"></div>            <script type=\"text/javascript\">                require([\"plotly\"], function(Plotly) {                    window.PLOTLYENV=window.PLOTLYENV || {};                                    if (document.getElementById(\"e42907d3-4bd1-43b0-808e-4130f5c788e4\")) {                    Plotly.newPlot(                        \"e42907d3-4bd1-43b0-808e-4130f5c788e4\",                        [{\"alignmentgroup\": \"True\", \"customdata\": [[1.6339869281045751, 10.0, 1.0, 8.0], [45.22641952433073, 29135.0, 1959.0, 23583.0], [112.47304855595617, 192840.0, 11431.0, 148424.0], [18.236390825164506, 2042.0, 85.0, 1899.0], [0.3532856269881149, 509.0, 21.0, 183.0], [95.56248114398359, 36611.0, 1509.0, 34226.0], [23.96088019559902, 9600.0, 392.0, 4329.0], [17.548906789413117, 9118.0, 366.0, 6574.0], [192.5318732560041, 3657.0, 146.0, 3465.0], [606.4553189698858, 17257.0, 663.0, 15885.0], [7.67228860180337, 4904.0, 185.0, 4525.0], [9.335019027682256, 4380.0, 157.0, 3864.0], [725.1222843145545, 243935.0, 8490.0, 210983.0], [867.5270263584042, 1533961.0, 51724.0, 1459894.0], [57.72962965569488, 33045.0, 1091.0, 27532.0], [67.65135062924318, 5085.0, 158.0, 4620.0], [153.94571844075406, 10530.0, 309.0, 3922.0], [57.76991745636789, 37428.0, 995.0, 33643.0], [68.18791946308725, 115688.0, 3048.0, 80219.0], [104.18625036494454, 17521.0, 445.0, 16821.0]], \"hovertemplate\": \"Pa\\u00eds=%{x}<br>Letalidade(Em %)=%{marker.color}<br>Mortes/Milhao=%{customdata[0]}<br>Infectados=%{customdata[1]}<br>Mortes=%{customdata[2]}<br>Recuperados=%{customdata[3]}<extra></extra>\", \"legendgroup\": \"\", \"marker\": {\"color\": [10.0, 6.723871632057662, 5.927712092926778, 4.16258570029383, 4.12573673870334, 4.121712053754336, 4.083333333333333, 4.014038166264531, 3.992343450916051, 3.8419192211856057, 3.772430668841762, 3.584474885844749, 3.480435361879189, 3.3719240580431964, 3.3015584808594336, 3.1071779744346117, 2.9344729344729346, 2.658437533397456, 2.6346725675956018, 2.5398093716112093], \"coloraxis\": \"coloraxis\"}, \"name\": \"\", \"offsetgroup\": \"\", \"orientation\": \"v\", \"showlegend\": false, \"textposition\": \"auto\", \"type\": \"bar\", \"x\": [\"Western Sahara\", \"Sudan\", \"Egypt\", \"Liberia\", \"Tanzania\", \"Zimbabwe\", \"Somalia\", \"Mali\", \"Comoros\", \"Eswatini\", \"Niger\", \"Chad\", \"Tunisia\", \"South Africa\", \"Malawi\", \"Gambia\", \"Lesotho\", \"Senegal\", \"Algeria\", \"Mauritania\"], \"xaxis\": \"x\", \"y\": [10.0, 6.723871632057662, 5.927712092926778, 4.16258570029383, 4.12573673870334, 4.121712053754336, 4.083333333333333, 4.014038166264531, 3.992343450916051, 3.8419192211856057, 3.772430668841762, 3.584474885844749, 3.480435361879189, 3.3719240580431964, 3.3015584808594336, 3.1071779744346117, 2.9344729344729346, 2.658437533397456, 2.6346725675956018, 2.5398093716112093], \"yaxis\": \"y\"}],                        {\"barmode\": \"relative\", \"coloraxis\": {\"colorbar\": {\"title\": {\"text\": \"Letalidade(Em %)\"}}, \"colorscale\": [[0.0, \"#440154\"], [0.1111111111111111, \"#482878\"], [0.2222222222222222, \"#3e4989\"], [0.3333333333333333, \"#31688e\"], [0.4444444444444444, \"#26828e\"], [0.5555555555555556, \"#1f9e89\"], [0.6666666666666666, \"#35b779\"], [0.7777777777777778, \"#6ece58\"], [0.8888888888888888, \"#b5de2b\"], [1.0, \"#fde725\"]]}, \"height\": 600, \"legend\": {\"tracegroupgap\": 0}, \"template\": {\"data\": {\"bar\": [{\"error_x\": {\"color\": \"#2a3f5f\"}, \"error_y\": {\"color\": \"#2a3f5f\"}, \"marker\": {\"line\": {\"color\": \"#E5ECF6\", \"width\": 0.5}}, \"type\": \"bar\"}], \"barpolar\": [{\"marker\": {\"line\": {\"color\": \"#E5ECF6\", \"width\": 0.5}}, \"type\": \"barpolar\"}], \"carpet\": [{\"aaxis\": {\"endlinecolor\": \"#2a3f5f\", \"gridcolor\": \"white\", \"linecolor\": \"white\", \"minorgridcolor\": \"white\", \"startlinecolor\": \"#2a3f5f\"}, \"baxis\": {\"endlinecolor\": \"#2a3f5f\", \"gridcolor\": \"white\", \"linecolor\": \"white\", \"minorgridcolor\": \"white\", \"startlinecolor\": \"#2a3f5f\"}, \"type\": \"carpet\"}], \"choropleth\": [{\"colorbar\": {\"outlinewidth\": 0, \"ticks\": \"\"}, \"type\": \"choropleth\"}], \"contour\": [{\"colorbar\": {\"outlinewidth\": 0, \"ticks\": \"\"}, \"colorscale\": [[0.0, \"#0d0887\"], [0.1111111111111111, \"#46039f\"], [0.2222222222222222, \"#7201a8\"], [0.3333333333333333, \"#9c179e\"], [0.4444444444444444, \"#bd3786\"], [0.5555555555555556, \"#d8576b\"], [0.6666666666666666, \"#ed7953\"], [0.7777777777777778, \"#fb9f3a\"], [0.8888888888888888, \"#fdca26\"], [1.0, \"#f0f921\"]], \"type\": \"contour\"}], \"contourcarpet\": [{\"colorbar\": {\"outlinewidth\": 0, \"ticks\": \"\"}, \"type\": \"contourcarpet\"}], \"heatmap\": [{\"colorbar\": {\"outlinewidth\": 0, \"ticks\": \"\"}, \"colorscale\": [[0.0, \"#0d0887\"], [0.1111111111111111, \"#46039f\"], [0.2222222222222222, \"#7201a8\"], [0.3333333333333333, \"#9c179e\"], [0.4444444444444444, \"#bd3786\"], [0.5555555555555556, \"#d8576b\"], [0.6666666666666666, \"#ed7953\"], [0.7777777777777778, \"#fb9f3a\"], [0.8888888888888888, \"#fdca26\"], [1.0, \"#f0f921\"]], \"type\": \"heatmap\"}], \"heatmapgl\": [{\"colorbar\": {\"outlinewidth\": 0, \"ticks\": \"\"}, \"colorscale\": [[0.0, \"#0d0887\"], [0.1111111111111111, \"#46039f\"], [0.2222222222222222, \"#7201a8\"], [0.3333333333333333, \"#9c179e\"], [0.4444444444444444, \"#bd3786\"], [0.5555555555555556, \"#d8576b\"], [0.6666666666666666, \"#ed7953\"], [0.7777777777777778, \"#fb9f3a\"], [0.8888888888888888, \"#fdca26\"], [1.0, \"#f0f921\"]], \"type\": \"heatmapgl\"}], \"histogram\": [{\"marker\": {\"colorbar\": {\"outlinewidth\": 0, \"ticks\": \"\"}}, \"type\": \"histogram\"}], \"histogram2d\": [{\"colorbar\": {\"outlinewidth\": 0, \"ticks\": \"\"}, \"colorscale\": [[0.0, \"#0d0887\"], [0.1111111111111111, \"#46039f\"], [0.2222222222222222, \"#7201a8\"], [0.3333333333333333, \"#9c179e\"], [0.4444444444444444, \"#bd3786\"], [0.5555555555555556, \"#d8576b\"], [0.6666666666666666, \"#ed7953\"], [0.7777777777777778, \"#fb9f3a\"], [0.8888888888888888, \"#fdca26\"], [1.0, \"#f0f921\"]], \"type\": \"histogram2d\"}], \"histogram2dcontour\": [{\"colorbar\": {\"outlinewidth\": 0, \"ticks\": \"\"}, \"colorscale\": [[0.0, \"#0d0887\"], [0.1111111111111111, \"#46039f\"], [0.2222222222222222, \"#7201a8\"], [0.3333333333333333, \"#9c179e\"], [0.4444444444444444, \"#bd3786\"], [0.5555555555555556, \"#d8576b\"], [0.6666666666666666, \"#ed7953\"], [0.7777777777777778, \"#fb9f3a\"], [0.8888888888888888, \"#fdca26\"], [1.0, \"#f0f921\"]], \"type\": \"histogram2dcontour\"}], \"mesh3d\": [{\"colorbar\": {\"outlinewidth\": 0, \"ticks\": \"\"}, \"type\": \"mesh3d\"}], \"parcoords\": [{\"line\": {\"colorbar\": {\"outlinewidth\": 0, \"ticks\": \"\"}}, \"type\": \"parcoords\"}], \"pie\": [{\"automargin\": true, \"type\": \"pie\"}], \"scatter\": [{\"marker\": {\"colorbar\": {\"outlinewidth\": 0, \"ticks\": \"\"}}, \"type\": \"scatter\"}], \"scatter3d\": [{\"line\": {\"colorbar\": {\"outlinewidth\": 0, \"ticks\": \"\"}}, \"marker\": {\"colorbar\": {\"outlinewidth\": 0, \"ticks\": \"\"}}, \"type\": \"scatter3d\"}], \"scattercarpet\": [{\"marker\": {\"colorbar\": {\"outlinewidth\": 0, \"ticks\": \"\"}}, \"type\": \"scattercarpet\"}], \"scattergeo\": [{\"marker\": {\"colorbar\": {\"outlinewidth\": 0, \"ticks\": \"\"}}, \"type\": \"scattergeo\"}], \"scattergl\": [{\"marker\": {\"colorbar\": {\"outlinewidth\": 0, \"ticks\": \"\"}}, \"type\": \"scattergl\"}], \"scattermapbox\": [{\"marker\": {\"colorbar\": {\"outlinewidth\": 0, \"ticks\": \"\"}}, \"type\": \"scattermapbox\"}], \"scatterpolar\": [{\"marker\": {\"colorbar\": {\"outlinewidth\": 0, \"ticks\": \"\"}}, \"type\": \"scatterpolar\"}], \"scatterpolargl\": [{\"marker\": {\"colorbar\": {\"outlinewidth\": 0, \"ticks\": \"\"}}, \"type\": \"scatterpolargl\"}], \"scatterternary\": [{\"marker\": {\"colorbar\": {\"outlinewidth\": 0, \"ticks\": \"\"}}, \"type\": \"scatterternary\"}], \"surface\": [{\"colorbar\": {\"outlinewidth\": 0, \"ticks\": \"\"}, \"colorscale\": [[0.0, \"#0d0887\"], [0.1111111111111111, \"#46039f\"], [0.2222222222222222, \"#7201a8\"], [0.3333333333333333, \"#9c179e\"], [0.4444444444444444, \"#bd3786\"], [0.5555555555555556, \"#d8576b\"], [0.6666666666666666, \"#ed7953\"], [0.7777777777777778, \"#fb9f3a\"], [0.8888888888888888, \"#fdca26\"], [1.0, \"#f0f921\"]], \"type\": \"surface\"}], \"table\": [{\"cells\": {\"fill\": {\"color\": \"#EBF0F8\"}, \"line\": {\"color\": \"white\"}}, \"header\": {\"fill\": {\"color\": \"#C8D4E3\"}, \"line\": {\"color\": \"white\"}}, \"type\": \"table\"}]}, \"layout\": {\"annotationdefaults\": {\"arrowcolor\": \"#2a3f5f\", \"arrowhead\": 0, \"arrowwidth\": 1}, \"autotypenumbers\": \"strict\", \"coloraxis\": {\"colorbar\": {\"outlinewidth\": 0, \"ticks\": \"\"}}, \"colorscale\": {\"diverging\": [[0, \"#8e0152\"], [0.1, \"#c51b7d\"], [0.2, \"#de77ae\"], [0.3, \"#f1b6da\"], [0.4, \"#fde0ef\"], [0.5, \"#f7f7f7\"], [0.6, \"#e6f5d0\"], [0.7, \"#b8e186\"], [0.8, \"#7fbc41\"], [0.9, \"#4d9221\"], [1, \"#276419\"]], \"sequential\": [[0.0, \"#0d0887\"], [0.1111111111111111, \"#46039f\"], [0.2222222222222222, \"#7201a8\"], [0.3333333333333333, \"#9c179e\"], [0.4444444444444444, \"#bd3786\"], [0.5555555555555556, \"#d8576b\"], [0.6666666666666666, \"#ed7953\"], [0.7777777777777778, \"#fb9f3a\"], [0.8888888888888888, \"#fdca26\"], [1.0, \"#f0f921\"]], \"sequentialminus\": [[0.0, \"#0d0887\"], [0.1111111111111111, \"#46039f\"], [0.2222222222222222, \"#7201a8\"], [0.3333333333333333, \"#9c179e\"], [0.4444444444444444, \"#bd3786\"], [0.5555555555555556, \"#d8576b\"], [0.6666666666666666, \"#ed7953\"], [0.7777777777777778, \"#fb9f3a\"], [0.8888888888888888, \"#fdca26\"], [1.0, \"#f0f921\"]]}, \"colorway\": [\"#636efa\", \"#EF553B\", \"#00cc96\", \"#ab63fa\", \"#FFA15A\", \"#19d3f3\", \"#FF6692\", \"#B6E880\", \"#FF97FF\", \"#FECB52\"], \"font\": {\"color\": \"#2a3f5f\"}, \"geo\": {\"bgcolor\": \"white\", \"lakecolor\": \"white\", \"landcolor\": \"#E5ECF6\", \"showlakes\": true, \"showland\": true, \"subunitcolor\": \"white\"}, \"hoverlabel\": {\"align\": \"left\"}, \"hovermode\": \"closest\", \"mapbox\": {\"style\": \"light\"}, \"paper_bgcolor\": \"white\", \"plot_bgcolor\": \"#E5ECF6\", \"polar\": {\"angularaxis\": {\"gridcolor\": \"white\", \"linecolor\": \"white\", \"ticks\": \"\"}, \"bgcolor\": \"#E5ECF6\", \"radialaxis\": {\"gridcolor\": \"white\", \"linecolor\": \"white\", \"ticks\": \"\"}}, \"scene\": {\"xaxis\": {\"backgroundcolor\": \"#E5ECF6\", \"gridcolor\": \"white\", \"gridwidth\": 2, \"linecolor\": \"white\", \"showbackground\": true, \"ticks\": \"\", \"zerolinecolor\": \"white\"}, \"yaxis\": {\"backgroundcolor\": \"#E5ECF6\", \"gridcolor\": \"white\", \"gridwidth\": 2, \"linecolor\": \"white\", \"showbackground\": true, \"ticks\": \"\", \"zerolinecolor\": \"white\"}, \"zaxis\": {\"backgroundcolor\": \"#E5ECF6\", \"gridcolor\": \"white\", \"gridwidth\": 2, \"linecolor\": \"white\", \"showbackground\": true, \"ticks\": \"\", \"zerolinecolor\": \"white\"}}, \"shapedefaults\": {\"line\": {\"color\": \"#2a3f5f\"}}, \"ternary\": {\"aaxis\": {\"gridcolor\": \"white\", \"linecolor\": \"white\", \"ticks\": \"\"}, \"baxis\": {\"gridcolor\": \"white\", \"linecolor\": \"white\", \"ticks\": \"\"}, \"bgcolor\": \"#E5ECF6\", \"caxis\": {\"gridcolor\": \"white\", \"linecolor\": \"white\", \"ticks\": \"\"}}, \"title\": {\"x\": 0.05}, \"xaxis\": {\"automargin\": true, \"gridcolor\": \"white\", \"linecolor\": \"white\", \"ticks\": \"\", \"title\": {\"standoff\": 15}, \"zerolinecolor\": \"white\", \"zerolinewidth\": 2}, \"yaxis\": {\"automargin\": true, \"gridcolor\": \"white\", \"linecolor\": \"white\", \"ticks\": \"\", \"title\": {\"standoff\": 15}, \"zerolinecolor\": \"white\", \"zerolinewidth\": 2}}}, \"title\": {\"text\": \"Top 25  Maiores letalidades - Continente Africano\"}, \"xaxis\": {\"anchor\": \"y\", \"domain\": [0.0, 1.0], \"title\": {\"text\": \"Pa\\u00eds\"}}, \"yaxis\": {\"anchor\": \"x\", \"domain\": [0.0, 1.0], \"title\": {\"text\": \"Letalidade(Em %)\"}}},                        {\"responsive\": true}                    ).then(function(){\n",
       "                            \n",
       "var gd = document.getElementById('e42907d3-4bd1-43b0-808e-4130f5c788e4');\n",
       "var x = new MutationObserver(function (mutations, observer) {{\n",
       "        var display = window.getComputedStyle(gd).display;\n",
       "        if (!display || display === 'none') {{\n",
       "            console.log([gd, 'removed!']);\n",
       "            Plotly.purge(gd);\n",
       "            observer.disconnect();\n",
       "        }}\n",
       "}});\n",
       "\n",
       "// Listen for the removal of the full notebook cells\n",
       "var notebookContainer = gd.closest('#notebook-container');\n",
       "if (notebookContainer) {{\n",
       "    x.observe(notebookContainer, {childList: true});\n",
       "}}\n",
       "\n",
       "// Listen for the clearing of the current output cell\n",
       "var outputEl = gd.closest('.output');\n",
       "if (outputEl) {{\n",
       "    x.observe(outputEl, {childList: true});\n",
       "}}\n",
       "\n",
       "                        })                };                });            </script>        </div>"
      ]
     },
     "metadata": {},
     "output_type": "display_data"
    }
   ],
   "source": [
    "fig3 = px.bar(top10_letalidade_africa, x = top10_letalidade_africa.País, y = 'Letalidade(Em %)', height = 600, color = 'Letalidade(Em %)',\n",
    "             title = 'Top 20  Maiores letalidades - Continente Africano', hover_data=[\"Mortes/Milhao\",\"Infectados\",\"Mortes\",\"Recuperados\"], color_continuous_scale = px.colors.sequential.Viridis)\n",
    "fig3.show()"
   ]
  }
 ],
 "metadata": {
  "kernelspec": {
   "display_name": "Python 3",
   "language": "python",
   "name": "python3"
  },
  "language_info": {
   "codemirror_mode": {
    "name": "ipython",
    "version": 3
   },
   "file_extension": ".py",
   "mimetype": "text/x-python",
   "name": "python",
   "nbconvert_exporter": "python",
   "pygments_lexer": "ipython3",
   "version": "3.7.3"
  }
 },
 "nbformat": 4,
 "nbformat_minor": 2
}
